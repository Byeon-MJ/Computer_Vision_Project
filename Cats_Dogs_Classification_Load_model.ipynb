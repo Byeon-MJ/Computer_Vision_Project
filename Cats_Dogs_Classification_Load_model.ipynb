{
  "nbformat": 4,
  "nbformat_minor": 0,
  "metadata": {
    "colab": {
      "private_outputs": true,
      "provenance": [],
      "authorship_tag": "ABX9TyOt+OcNEX/+uYDQlshXfdFl",
      "include_colab_link": true
    },
    "kernelspec": {
      "name": "python3",
      "display_name": "Python 3"
    },
    "language_info": {
      "name": "python"
    }
  },
  "cells": [
    {
      "cell_type": "markdown",
      "metadata": {
        "id": "view-in-github",
        "colab_type": "text"
      },
      "source": [
        "<a href=\"https://colab.research.google.com/github/Byeon-MJ/Computer_Vision_Project/blob/main/Cats_Dogs_Classification_Load_model.ipynb\" target=\"_parent\"><img src=\"https://colab.research.google.com/assets/colab-badge.svg\" alt=\"Open In Colab\"/></a>"
      ]
    },
    {
      "cell_type": "code",
      "source": [
        "# 드라이브 mount\n",
        "from google.colab import drive\n",
        "drive.mount('/content/gdrive')"
      ],
      "metadata": {
        "id": "twHUUIT3tvMw"
      },
      "execution_count": null,
      "outputs": []
    },
    {
      "cell_type": "code",
      "source": [
        "# 모듈 임포트\n",
        "import matplotlib.pyplot as plt\n",
        "import tensorflow as tf\n",
        "from tensorflow import keras\n",
        "from keras.models import load_model\n",
        "from keras.preprocessing.image import ImageDataGenerator"
      ],
      "metadata": {
        "id": "btgUcjZot0xz"
      },
      "execution_count": null,
      "outputs": []
    },
    {
      "cell_type": "code",
      "source": [
        "image_width = 150\n",
        "image_height = 150\n",
        "batch_size = 10"
      ],
      "metadata": {
        "id": "36SLi3zDufz9"
      },
      "execution_count": null,
      "outputs": []
    },
    {
      "cell_type": "code",
      "source": [
        "# 모델 로드\n",
        "loaded_model = load_model('/content/gdrive/MyDrive/CV/Cats vs Dogs/Cats_vs_Dogs_model.h5')\n",
        "loaded_model.summary()"
      ],
      "metadata": {
        "id": "OvCwkpRovDUR"
      },
      "execution_count": null,
      "outputs": []
    },
    {
      "cell_type": "code",
      "source": [
        "# validation_dataset에서 test_generator 객체 생성\n",
        "test_generator = ImageDataGenerator(rescale=1./255).flow_from_directory(\n",
        "    '/content/gdrive/MyDrive/CV/Cats vs Dogs/dog-vs-cat/validation',\n",
        "    batch_size = 10,\n",
        "    class_mode = 'binary',\n",
        "    target_size = (image_width, image_height))"
      ],
      "metadata": {
        "id": "X4Sg5q90vkmk"
      },
      "execution_count": null,
      "outputs": []
    },
    {
      "cell_type": "code",
      "source": [
        "# validation_dataset에서 pred_generator 객체 생성\n",
        "pred_generator = ImageDataGenerator(rescale=1./255).flow_from_directory(\n",
        "    '/content/gdrive/MyDrive/CV/Cats vs Dogs/dog-vs-cat/validation',\n",
        "    batch_size = 1,\n",
        "    class_mode = 'binary',\n",
        "    target_size = (image_width, image_height))"
      ],
      "metadata": {
        "id": "moBogxfpypEa"
      },
      "execution_count": null,
      "outputs": []
    },
    {
      "cell_type": "code",
      "source": [
        "# model evaluate\n",
        "score = loaded_model.evaluate(test_generator, steps=800//batch_size, verbose=1)\n",
        "print('Test loss:', score[0])\n",
        "print('Test accuracy:', score[1]*100)"
      ],
      "metadata": {
        "id": "koCREt2azIMh"
      },
      "execution_count": null,
      "outputs": []
    },
    {
      "cell_type": "code",
      "source": [
        "# pred_generator가 만든 이미지를 load한 모델을 통해 예측\n",
        "predictions = loaded_model.predict(pred_generator, steps=16, verbose=1)"
      ],
      "metadata": {
        "id": "qo_LoEBfz5Pv"
      },
      "execution_count": null,
      "outputs": []
    },
    {
      "cell_type": "code",
      "source": [
        "# predictions shape 확인\n",
        "predictions.shape"
      ],
      "metadata": {
        "id": "1cJHyaBI1nSf"
      },
      "execution_count": null,
      "outputs": []
    },
    {
      "cell_type": "code",
      "source": [
        "# 예측 결과 확인\n",
        "predictions"
      ],
      "metadata": {
        "id": "X0ww6jsR1s1u"
      },
      "execution_count": null,
      "outputs": []
    },
    {
      "cell_type": "code",
      "source": [
        "# pred_generator가 만든 이미지 클래스 인덱스 확인\n",
        "print(pred_generator.class_indices)"
      ],
      "metadata": {
        "id": "-BkqZSPe1waG"
      },
      "execution_count": null,
      "outputs": []
    },
    {
      "cell_type": "code",
      "source": [
        "# pred_generator가 만든 이미지를 load한 모델을 통해 예측\n",
        "predictions = loaded_model.predict(pred_generator, steps=16, verbose=1)\n",
        "\n",
        "# Predict Result 이미지로 확인\n",
        "f, ax = plt.subplots(4, 4, figsize=(20, 20))\n",
        "\n",
        "for i in range(len(predictions)):\n",
        "    image, label = pred_generator.next()                    # pred_generator 가 만들어 낸 이미지를 하나씩 꺼내온다\n",
        "    real_class = 'cat' if int(label) == 0 else 'dog'        # pred_generator 가 만들어 낸 이미지의 label name 을 가져옴\n",
        "    ax[i//4, i%4].imshow(image[0])                          # pred_generator 가 만들어 낸 이미지를 보여줌\n",
        "    ax[i//4, i%4].axis('off')\n",
        "\n",
        "    pred_class = 'dog' if predictions[i] > 0.5 else 'cat'   # pred_generator 가 만들어 낸 이미지를 모델을 통해 예측한 결과 값의 label name\n",
        "    pred_prob = predictions[i]                              # pred_generator 가 만들어 낸 이미지를 모델을 통해 예측한 결과(확률값)\n",
        "    ax[i//4, i%4].set_title('REAL:' + real_class + '\\nPREDICT:' + pred_class + '(' + str(pred_prob) + ')')  # title 에 실제값과 모델에 의해 예측된 예측값을 함께 보여준다.\n",
        "\n",
        "f.suptitle('Predict Result')\n",
        "\n",
        "plt.show()"
      ],
      "metadata": {
        "id": "pVBBr7oa1824"
      },
      "execution_count": null,
      "outputs": []
    },
    {
      "cell_type": "code",
      "source": [],
      "metadata": {
        "id": "fGDECT184qY3"
      },
      "execution_count": null,
      "outputs": []
    }
  ]
}