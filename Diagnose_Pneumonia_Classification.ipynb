{
  "nbformat": 4,
  "nbformat_minor": 0,
  "metadata": {
    "colab": {
      "private_outputs": true,
      "provenance": [],
      "authorship_tag": "ABX9TyOO5UO78MSpWHNCXzmnQ1Y8",
      "include_colab_link": true
    },
    "kernelspec": {
      "name": "python3",
      "display_name": "Python 3"
    },
    "language_info": {
      "name": "python"
    },
    "accelerator": "GPU",
    "gpuClass": "standard"
  },
  "cells": [
    {
      "cell_type": "markdown",
      "metadata": {
        "id": "view-in-github",
        "colab_type": "text"
      },
      "source": [
        "<a href=\"https://colab.research.google.com/github/Byeon-MJ/Computer_Vision_Project/blob/main/Diagnose_Pneumonia_Classification.ipynb\" target=\"_parent\"><img src=\"https://colab.research.google.com/assets/colab-badge.svg\" alt=\"Open In Colab\"/></a>"
      ]
    },
    {
      "cell_type": "code",
      "execution_count": null,
      "metadata": {
        "id": "U89cO8fSIUQL"
      },
      "outputs": [],
      "source": [
        "from google.colab import drive\n",
        "drive.mount('/content/gdrive')"
      ]
    },
    {
      "cell_type": "code",
      "source": [
        "# tensorflow 버전 확인\n",
        "import tensorflow as tf\n",
        "tf.__version__"
      ],
      "metadata": {
        "id": "3TAz4K6xIeZc"
      },
      "execution_count": null,
      "outputs": []
    },
    {
      "cell_type": "markdown",
      "source": [
        "# 데이터셋 다운로드"
      ],
      "metadata": {
        "id": "Lr9mji3DPFEL"
      }
    },
    {
      "cell_type": "code",
      "source": [
        "# Kaggle API 설치\n",
        "!pip install kaggle"
      ],
      "metadata": {
        "id": "9ecA2hJcI18t"
      },
      "execution_count": null,
      "outputs": []
    },
    {
      "cell_type": "code",
      "source": [
        "# kaggle.json 파일 VM에 업로드\n",
        "from google.colab import files\n",
        "files.upload()"
      ],
      "metadata": {
        "id": "nGqoAhmaJ1ny"
      },
      "execution_count": null,
      "outputs": []
    },
    {
      "cell_type": "code",
      "source": [
        "!ls -1ha kaggle.json"
      ],
      "metadata": {
        "id": "IyjM8Ps0KHpK"
      },
      "execution_count": null,
      "outputs": []
    },
    {
      "cell_type": "code",
      "source": [
        "# Kaggle API Token 사용위해 kaggle.json 파일 이동\n",
        "!mkdir -p ~/.kaggle"
      ],
      "metadata": {
        "id": "ZUgjV6qrKOWh"
      },
      "execution_count": null,
      "outputs": []
    },
    {
      "cell_type": "code",
      "source": [
        "!mv kaggle.json ~/.kaggle/"
      ],
      "metadata": {
        "id": "yYjOWjyJLTgR"
      },
      "execution_count": null,
      "outputs": []
    },
    {
      "cell_type": "code",
      "source": [
        "# Permission Warning 방지, 권한 부여\n",
        "!chmod 600 ~/.kaggle/kaggle.json"
      ],
      "metadata": {
        "id": "feoXiEB_LX-C"
      },
      "execution_count": null,
      "outputs": []
    },
    {
      "cell_type": "code",
      "source": [
        "# kaggle datasets 다운로드\n",
        "!kaggle datasets download -d paultimothymooney/chest-xray-pneumonia"
      ],
      "metadata": {
        "id": "ngOHl3e_L03h"
      },
      "execution_count": null,
      "outputs": []
    },
    {
      "cell_type": "code",
      "source": [
        "# 다운받은 zip 압축 해제\n",
        "from zipfile import ZipFile\n",
        "\n",
        "with ZipFile('chest-xray-pneumonia.zip') as z:\n",
        "    z.extractall()"
      ],
      "metadata": {
        "id": "OWVkhVzIMGt3"
      },
      "execution_count": null,
      "outputs": []
    },
    {
      "cell_type": "code",
      "source": [
        "# >> 저장 공간 부족으로 드라이브 이동 x\n",
        "# # 다운받은 dataset 구글 드라이브로 이동\n",
        "# !mv chest_xray /content/gdrive/MyDrive/CV/Diagnose\\ Pneumonia/"
      ],
      "metadata": {
        "id": "gEcJNvs7MmsD"
      },
      "execution_count": null,
      "outputs": []
    },
    {
      "cell_type": "code",
      "source": [
        "# 다운로드 받았던 zip 파일 제거\n",
        "!rm chest-xray-pneumonia.zip"
      ],
      "metadata": {
        "id": "MHKcZu5XNV_K"
      },
      "execution_count": null,
      "outputs": []
    },
    {
      "cell_type": "code",
      "source": [
        "# dataset 확인\n",
        "!ls /content/chest_xray/chest_xray/test"
      ],
      "metadata": {
        "id": "7mlWnXSeOy0o"
      },
      "execution_count": null,
      "outputs": []
    },
    {
      "cell_type": "markdown",
      "source": [
        "# 모델 학습 및 예측"
      ],
      "metadata": {
        "id": "BT3OvWJOPBYI"
      }
    },
    {
      "cell_type": "markdown",
      "source": [
        "## Modules import"
      ],
      "metadata": {
        "id": "xoa2JYJEPLNB"
      }
    },
    {
      "cell_type": "code",
      "source": [
        "# 모듈 임포트\n",
        "import pandas as pd\n",
        "import numpy as np\n",
        "import matplotlib.pyplot as plt\n",
        "import cv2\n",
        "import os\n",
        "import random\n",
        "import tensorflow as tf\n",
        "from tensorflow import keras\n",
        "from keras.models import Sequential\n",
        "from keras.layers import Conv2D, Dense, Flatten, Dropout, MaxPooling2D\n",
        "from keras.preprocessing.image import ImageDataGenerator\n",
        "from keras.callbacks import EarlyStopping, ModelCheckpoint"
      ],
      "metadata": {
        "id": "9vL4zWLsPOiP"
      },
      "execution_count": null,
      "outputs": []
    },
    {
      "cell_type": "code",
      "source": [
        "# 데이터 가져오기\n",
        "root = 'chest_xray/'\n",
        "file_path1 = 'chest_xray/train/NORMAL/'\n",
        "total_images_train_normal = os.listdir(root + file_path1)\n",
        "file_path2 = 'chest_xray/train/PNEUMONIA/'\n",
        "total_images_train_pneumonia = os.listdir(root + file_path2)"
      ],
      "metadata": {
        "id": "x3ed4d_uP3yQ"
      },
      "execution_count": null,
      "outputs": []
    },
    {
      "cell_type": "code",
      "source": [
        "# Normal Sample Data\n",
        "sample_normal = random.sample(total_images_train_normal,6)\n",
        "f, ax = plt.subplots(2, 3, figsize = (15, 9))\n",
        "\n",
        "for i in range(0, 6):\n",
        "    im = cv2.imread(root + file_path1 + sample_normal[i])\n",
        "    ax[i//3, i%3].imshow(im)\n",
        "    ax[i//3, i%3].axis('off')\n",
        "    \n",
        "f.suptitle('Normal Lungs')\n",
        "plt.show()"
      ],
      "metadata": {
        "id": "Su0pPEwVQvRW"
      },
      "execution_count": null,
      "outputs": []
    },
    {
      "cell_type": "code",
      "source": [
        "# PNEUMONIA Sample Data\n",
        "sample_pneumonia = random.sample(total_images_train_pneumonia,6)\n",
        "f, ax = plt.subplots(2, 3, figsize = (15, 9))\n",
        "\n",
        "for i in range(0, 6):\n",
        "    im = cv2.imread(root + file_path2 + sample_pneumonia[i])\n",
        "    ax[i//3, i%3].imshow(im)\n",
        "    ax[i//3, i%3].axis('off')\n",
        "    \n",
        "f.suptitle('Pneumonia Lungs')\n",
        "plt.show()"
      ],
      "metadata": {
        "id": "73aoswljRVnG"
      },
      "execution_count": null,
      "outputs": []
    },
    {
      "cell_type": "code",
      "source": [
        "# 필요한 상수 정의\n",
        "image_height = 150  # 이미지 높이\n",
        "image_width = 150   # 이미지 넓이\n",
        "batch_size = 10     # batch size\n",
        "no_of_epochs = 30   # training 횟수"
      ],
      "metadata": {
        "id": "DWXqJAcITrun"
      },
      "execution_count": null,
      "outputs": []
    },
    {
      "cell_type": "code",
      "source": [
        "# 모델 생성\n",
        "model = Sequential()\n",
        "model.add(Conv2D(32,(3,3), input_shape=(image_height, image_width, 3), activation='relu'))\n",
        "model.add(Conv2D(32,(3,3), activation='relu'))\n",
        "model.add(MaxPooling2D(pool_size=(2,2)))\n",
        "model.add(Dropout(0.2))\n",
        "model.add(Conv2D(64,(3,3), activation='relu'))\n",
        "model.add(Conv2D(64,(3,3), activation='relu'))\n",
        "model.add(MaxPooling2D(pool_size=(2,2)))\n",
        "model.add(Dropout(0.2))\n",
        "model.add(Conv2D(128,(3,3), activation='relu'))\n",
        "model.add(Conv2D(128,(3,3), activation='relu'))\n",
        "model.add(MaxPooling2D(pool_size=(2,2)))\n",
        "model.add(Dropout(0.2))\n",
        "model.add(Flatten())\n",
        "model.add(Dense(units=128, activation='relu'))\n",
        "model.add(Dropout(0.2))\n",
        "model.add(Dense(units=1, activation='sigmoid'))\n",
        "model.compile(optimizer='adam', loss='binary_crossentropy', metrics=['accuracy'])\n",
        "\n",
        "model.summary()"
      ],
      "metadata": {
        "id": "vGVJ3_7KUEJf"
      },
      "execution_count": null,
      "outputs": []
    },
    {
      "cell_type": "code",
      "source": [
        "# ImageDataGenerator 인스턴트 생성\n",
        "train_datagen = ImageDataGenerator(rescale = 1./255,        # 픽셀 값을 0 ~ 1 범위로 변환\n",
        "                                   rotation_range = 15,     # 15도까지 회전\n",
        "                                   shear_range = 0.2,       # 20%까지 기울임\n",
        "                                   zoom_range = 0.2         # 20%까지 확대\n",
        "                                   )\n",
        "\n",
        "val_datagen = ImageDataGenerator(rescale = 1./255)"
      ],
      "metadata": {
        "id": "hGbhR8hSVSf2"
      },
      "execution_count": null,
      "outputs": []
    },
    {
      "cell_type": "code",
      "source": [
        "# train_datagen 인스턴스로 training_set 객체 생성\n",
        "training_set = train_datagen.flow_from_directory('chest_xray/chest_xray/train',\n",
        "                                                 target_size = (image_width, image_height),\n",
        "                                                 batch_size = batch_size,\n",
        "                                                 class_mode = 'binary')\n",
        "\n",
        "# val_datagen 인스턴스로 test_set 객체 생성\n",
        "test_set = val_datagen.flow_from_directory('chest_xray/chest_xray/test',\n",
        "                                           target_size = (image_width, image_height),\n",
        "                                           batch_size = batch_size,\n",
        "                                           class_mode = 'binary')\n",
        "\n",
        "# val_datagen 인스턴스로 val_set 객체 생성\n",
        "val_set = val_datagen.flow_from_directory('chest_xray/chest_xray/val',\n",
        "                                          target_size = (image_width, image_height),\n",
        "                                          batch_size = 1,\n",
        "                                          shuffle = False,\n",
        "                                          class_mode = 'binary')"
      ],
      "metadata": {
        "id": "lL0m0KpucDqT"
      },
      "execution_count": null,
      "outputs": []
    },
    {
      "cell_type": "code",
      "source": [
        "# 모델 학습시 최고 모델을 저장하는 옵션 정의\n",
        "modelCheckpoint = ModelCheckpoint('diagnose_pneumonia_model.h5', save_best_only=True)\n",
        "\n",
        "# 조기 학습 종료 옵션 정의\n",
        "monitor_val_acc = EarlyStopping(monitor='val_accuracy', patience=5)"
      ],
      "metadata": {
        "id": "g1Z23CArdG3S"
      },
      "execution_count": null,
      "outputs": []
    },
    {
      "cell_type": "code",
      "source": [
        "# 모델 학습\n",
        "history = model.fit_generator(training_set,\n",
        "                              steps_per_epoch = 5216//batch_size,               # train_data 이미지 수\n",
        "                              epochs = no_of_epochs,\n",
        "                              validation_data = test_set,\n",
        "                              validation_steps = 624//batch_size,               # test_dataseet 이미지 수\n",
        "                              callbacks = [monitor_val_acc, modelCheckpoint])"
      ],
      "metadata": {
        "id": "jxP25FWgei9T"
      },
      "execution_count": null,
      "outputs": []
    },
    {
      "cell_type": "code",
      "source": [
        "# model evaluate\n",
        "score = model.evaluate(test_set, steps=624//batch_size, verbose=1)\n",
        "print('Val loss:', score[0])\n",
        "print('Val accuracy:', score[1]*100)"
      ],
      "metadata": {
        "id": "TbVLpsh_fw4U"
      },
      "execution_count": null,
      "outputs": []
    },
    {
      "cell_type": "code",
      "source": [
        "# test_set 이미지 클래스 인덱스 확인\n",
        "print(test_set.class_indices)"
      ],
      "metadata": {
        "id": "Uh-YCP5um9Pf"
      },
      "execution_count": null,
      "outputs": []
    },
    {
      "cell_type": "code",
      "source": [
        "# loss graph\n",
        "plt.figure(figsize=(16,5))\n",
        "\n",
        "plt.subplot(1, 2, 1)\n",
        "plt.plot(history.history['loss'])\n",
        "plt.plot(history.history['val_loss'])\n",
        "plt.title('model loss')\n",
        "plt.ylabel('loss')\n",
        "plt.xlabel('epoch')\n",
        "plt.legend(['train', 'validation'], loc='upper left')\n",
        "\n",
        "# accuracy graph\n",
        "plt.subplot(1, 2, 2)\n",
        "plt.plot(history.history['accuracy'])\n",
        "plt.plot(history.history['val_accuracy'])\n",
        "plt.title('model accuracy')\n",
        "plt.ylabel('accuracy')\n",
        "plt.xlabel('epoch')\n",
        "plt.legend(['train', 'validation'], loc='upper left')"
      ],
      "metadata": {
        "id": "jpMkKgO9nEVW"
      },
      "execution_count": null,
      "outputs": []
    },
    {
      "cell_type": "code",
      "source": [
        "# 분류 예측\n",
        "predictions = model.predict(val_set, steps = 16, verbose = 1)"
      ],
      "metadata": {
        "id": "l4z8_IlYrpcK"
      },
      "execution_count": null,
      "outputs": []
    },
    {
      "cell_type": "code",
      "source": [
        "# val_set 이미지 클래스 인덱스 확인\n",
        "print(val_set.class_indices)"
      ],
      "metadata": {
        "id": "a8_6rSONr19a"
      },
      "execution_count": null,
      "outputs": []
    },
    {
      "cell_type": "code",
      "source": [
        "# 예측 결과 확인\n",
        "f, ax = plt.subplots(4, 4, figsize = (20, 20))\n",
        "\n",
        "for i in range(len(predictions)):\n",
        "    # val_set이 만들어 낸 이미지를 하나씩 꺼내온다.\n",
        "    image, label = val_set.next()\n",
        "    # val_set이 만들어 낸 이미지의 label name을 가져옴\n",
        "    real_class = 'NORMAL' if int(label) == 0 else 'PNEUMONIA'\n",
        "    # val_set이 만들어 낸 이미지를 보여줌\n",
        "    ax[i//4, i%4].imshow(image[0])\n",
        "    ax[i//4, i%4].axis('off')\n",
        "\n",
        "    # val_set이 만들어 낸 이미지를 모델을 통해 예측한 결과 값의 label name\n",
        "    pred_class = 'PNEUMONIA' if predictions[i] > 0.5 else 'NORMAL'\n",
        "    # val_set이 만들어 낸 이미지를 모델을 통해 예측한 결과(확률값)\n",
        "    pred_prob = predictions[i]\n",
        "    # title에 실제값과 모델에 의해 예측된 예측값을 함께 보여준다.\n",
        "    ax[i//4, i%4].set_title('REAL:' + real_class + '\\nPREDICT:' + pred_class + '(' + str(pred_prob) + ')')\n",
        "\n",
        "f.suptitle('Predict Result')\n",
        "\n",
        "plt.show()"
      ],
      "metadata": {
        "id": "FzMD3W0Sr6K6"
      },
      "execution_count": null,
      "outputs": []
    },
    {
      "cell_type": "code",
      "source": [],
      "metadata": {
        "id": "WTJcY0J5ue9T"
      },
      "execution_count": null,
      "outputs": []
    }
  ]
}