{
  "nbformat": 4,
  "nbformat_minor": 0,
  "metadata": {
    "colab": {
      "provenance": [],
      "authorship_tag": "ABX9TyM5aZeWiW70v8YZzyKHCa7k",
      "include_colab_link": true
    },
    "kernelspec": {
      "name": "python3",
      "display_name": "Python 3"
    },
    "language_info": {
      "name": "python"
    },
    "accelerator": "GPU",
    "gpuClass": "standard"
  },
  "cells": [
    {
      "cell_type": "markdown",
      "metadata": {
        "id": "view-in-github",
        "colab_type": "text"
      },
      "source": [
        "<a href=\"https://colab.research.google.com/github/Byeon-MJ/DL_Computer_Vision/blob/main/Face_Alignment_Generator.ipynb\" target=\"_parent\"><img src=\"https://colab.research.google.com/assets/colab-badge.svg\" alt=\"Open In Colab\"/></a>"
      ]
    },
    {
      "cell_type": "code",
      "execution_count": 2,
      "metadata": {
        "colab": {
          "base_uri": "https://localhost:8080/"
        },
        "id": "cMjkJLsS4N9j",
        "outputId": "87e2da97-0745-489f-abae-1f0c417b03a4"
      },
      "outputs": [
        {
          "output_type": "stream",
          "name": "stdout",
          "text": [
            "Mounted at /content/gdrive\n"
          ]
        }
      ],
      "source": [
        "from google.colab import drive\n",
        "drive.mount('/content/gdrive')"
      ]
    },
    {
      "cell_type": "code",
      "source": [
        "import numpy as np\n",
        "import dlib\n",
        "import cv2\n",
        "import os\n",
        "from google.colab.patches import cv2_imshow"
      ],
      "metadata": {
        "id": "M3Emw8PH4dQ9"
      },
      "execution_count": 4,
      "outputs": []
    },
    {
      "cell_type": "code",
      "source": [
        "RIGHT_EYE = list(range(36,42))\n",
        "LEFT_EYE = list(range(42, 48))\n",
        "EYES = list(range(36, 48))"
      ],
      "metadata": {
        "id": "piAJPK0w4luT"
      },
      "execution_count": 5,
      "outputs": []
    },
    {
      "cell_type": "code",
      "source": [
        "# 원본 이미지 경로\n",
        "dataset_paths = ['/content/gdrive/MyDrive/CV/Face Landmark/image/Emma-front/',\n",
        "                 '/content/gdrive/MyDrive/CV/Face Landmark/image/Gosling-front/',\n",
        "                 '/content/gdrive/MyDrive/CV/Face Landmark/image/unknown-front/']\n",
        "\n",
        "# output 이미지 경로\n",
        "output_paths = ['/content/gdrive/MyDrive/CV/Face Landmark/image/Emma-align/',\n",
        "                '/content/gdrive/MyDrive/CV/Face Landmark/image/Gosling-align/',\n",
        "                '/content/gdrive/MyDrive/CV/Face Landmark/image/unknown-align/']\n",
        "\n",
        "# 이미지 타입\n",
        "image_type = '.jpg'\n",
        "\n",
        "# 학습된 dlib 모델 불러옴\n",
        "predictor_file = '/content/gdrive/MyDrive/CV/Face Landmark/shape_predictor_68_face_landmarks.dat'\n",
        "\n",
        "# output 이미지 해상도\n",
        "OUTPUT_SIZE = (300, 300)\n",
        "\n",
        "# detector & predictor 정의\n",
        "detector = dlib.get_frontal_face_detector()\n",
        "predictor = dlib.shape_predictor(predictor_file)\n",
        "\n",
        "# rect의 x, y, w, h를 구하는 함수 정의\n",
        "def getFaceDimension(rect):\n",
        "    return (rect.left(), rect.top(), rect.right() - rect.left(), rect.bottom() - rect.top())\n",
        "\n",
        "# Crop 할 좌표를 구하는 함수 정의\n",
        "def getCropDimension(rect, center):\n",
        "    width = (rect.right() - rect.left())\n",
        "    half_width = width // 2\n",
        "    (centerX, centerY) = center\n",
        "    startX = centerX - half_width\n",
        "    endX = centerX + half_width\n",
        "    startY = rect.top()\n",
        "    endY = rect.bottom()\n",
        "    return (startX, endX, startY, endY)"
      ],
      "metadata": {
        "id": "bsjeQmBJ4y_T"
      },
      "execution_count": 6,
      "outputs": []
    },
    {
      "cell_type": "code",
      "source": [
        "for (i, dataset_path) in enumerate(dataset_paths):\n",
        "    output_path = output_paths[i]\n",
        "    total_images = os.listdir(dataset_path)\n",
        "\n",
        "    for idx in range(len(total_images)):\n",
        "        input_file = dataset_path + str(idx+1) + image_type\n",
        "\n",
        "        # 원본 이미지를 읽어옴\n",
        "        image = cv2.imread(input_file)\n",
        "        # 원본 이미지 copy\n",
        "        image_origin = image.copy()\n",
        "\n",
        "        (image_height, image_width) = image.shape[:2]\n",
        "        gray = cv2.cvtColor(image, cv2.COLOR_BGR2GRAY)\n",
        "\n",
        "        # detector에 의해 얼굴 감지\n",
        "        rects = detector(gray, 1)\n",
        "\n",
        "        for (i, rect) in enumerate(rects):\n",
        "            (x, y, w, h) = getFaceDimension(rect)\n",
        "            \n",
        "            # 이미지에 boxing\n",
        "            cv2.rectangle(image, (x, y), (x + w, y + h), (0, 255, 0), 2)\n",
        "\n",
        "            # predictor에 의해 감지된 landmark point를 x, y 좌표로 계산\n",
        "            points = np.matrix([[p.x, p.y] for p in predictor(gray, rect).parts()])\n",
        "            show_parts = points[EYES]\n",
        "\n",
        "            # 오른쪽 눈 중앙값 계산\n",
        "            right_eye_center = np.mean(points[RIGHT_EYE], axis = 0).astype('int')\n",
        "            # 왼쪽쪽 눈 중앙값 계산\n",
        "            left_eye_center = np.mean(points[LEFT_EYE], axis = 0).astype('int')\n",
        "\n",
        "            eye_delta_x = right_eye_center[0, 0] - left_eye_center[0, 0]\n",
        "            eye_delta_y = right_eye_center[0, 1] - left_eye_center[0, 1]\n",
        "            # arctan2로 조정각도 계산\n",
        "            degree = np.degrees(np.arctan2(eye_delta_y, eye_delta_x)) - 180\n",
        "\n",
        "            # 눈 사이 간격을 Euclidean Distance로 계산(실제 간격)\n",
        "            eye_distance = np.sqrt((eye_delta_x ** 2) + (eye_delta_y ** 2))\n",
        "\n",
        "            # alignment 된 눈 사이 간격(조정 거리)\n",
        "            aligned_eye_distance = left_eye_center[0, 0] - right_eye_center[0, 0]\n",
        "            \n",
        "            # 조정된 거리의 스케일\n",
        "            scale = aligned_eye_distance / eye_distance\n",
        "\n",
        "            # 두 눈의 중앙점 간의 중앙점을 다시 계산\n",
        "            eyes_center = (int((left_eye_center[0, 0] + right_eye_center[0, 0]) // 2),\n",
        "                            int((left_eye_center[0, 1] + right_eye_center[0, 1]) // 2))\n",
        "            \n",
        "            rotate = cv2.getRotationMatrix2D(eyes_center, degree, scale)\n",
        "            rotated = cv2.warpAffine(image_origin, rotate, (image_width, image_height), flags = cv2.INTER_CUBIC)\n",
        "\n",
        "            # rect에서 Crop 할 이미지의 좌표값을 구해온다.\n",
        "            (startX, endX, startY, endY) = getCropDimension(rect, eyes_center)\n",
        "\n",
        "            # 회전된 이미지에서 Crop 될 이미지를 구함\n",
        "            croped = rotated[startY:endY, startX:endX]\n",
        "\n",
        "            # Crop 된 이미지를 Output 해상도에 맞게 resizing\n",
        "            output = cv2.resize(croped, OUTPUT_SIZE)\n",
        "\n",
        "            # output 파일명, 이미지 저장\n",
        "            output_file = output_path + str(idx + 1) + image_type\n",
        "            cv2.imwrite(output_file, output)\n",
        "            print(output_file + 'is saved')"
      ],
      "metadata": {
        "colab": {
          "base_uri": "https://localhost:8080/"
        },
        "id": "PNEt-B_0y3Oj",
        "outputId": "8f1abaad-db0a-4213-ac9c-6c3ae672413a"
      },
      "execution_count": 8,
      "outputs": [
        {
          "output_type": "stream",
          "name": "stdout",
          "text": [
            "/content/gdrive/MyDrive/CV/Face Landmark/image/Emma-align/1.jpgis saved\n",
            "/content/gdrive/MyDrive/CV/Face Landmark/image/Emma-align/2.jpgis saved\n",
            "/content/gdrive/MyDrive/CV/Face Landmark/image/Emma-align/3.jpgis saved\n",
            "/content/gdrive/MyDrive/CV/Face Landmark/image/Emma-align/4.jpgis saved\n",
            "/content/gdrive/MyDrive/CV/Face Landmark/image/Emma-align/5.jpgis saved\n",
            "/content/gdrive/MyDrive/CV/Face Landmark/image/Emma-align/6.jpgis saved\n",
            "/content/gdrive/MyDrive/CV/Face Landmark/image/Emma-align/7.jpgis saved\n",
            "/content/gdrive/MyDrive/CV/Face Landmark/image/Emma-align/8.jpgis saved\n",
            "/content/gdrive/MyDrive/CV/Face Landmark/image/Emma-align/9.jpgis saved\n",
            "/content/gdrive/MyDrive/CV/Face Landmark/image/Emma-align/10.jpgis saved\n",
            "/content/gdrive/MyDrive/CV/Face Landmark/image/Gosling-align/1.jpgis saved\n",
            "/content/gdrive/MyDrive/CV/Face Landmark/image/Gosling-align/2.jpgis saved\n",
            "/content/gdrive/MyDrive/CV/Face Landmark/image/Gosling-align/3.jpgis saved\n",
            "/content/gdrive/MyDrive/CV/Face Landmark/image/Gosling-align/4.jpgis saved\n",
            "/content/gdrive/MyDrive/CV/Face Landmark/image/Gosling-align/5.jpgis saved\n",
            "/content/gdrive/MyDrive/CV/Face Landmark/image/Gosling-align/6.jpgis saved\n",
            "/content/gdrive/MyDrive/CV/Face Landmark/image/Gosling-align/7.jpgis saved\n",
            "/content/gdrive/MyDrive/CV/Face Landmark/image/Gosling-align/8.jpgis saved\n",
            "/content/gdrive/MyDrive/CV/Face Landmark/image/Gosling-align/9.jpgis saved\n",
            "/content/gdrive/MyDrive/CV/Face Landmark/image/Gosling-align/10.jpgis saved\n",
            "/content/gdrive/MyDrive/CV/Face Landmark/image/unknown-align/1.jpgis saved\n",
            "/content/gdrive/MyDrive/CV/Face Landmark/image/unknown-align/2.jpgis saved\n",
            "/content/gdrive/MyDrive/CV/Face Landmark/image/unknown-align/3.jpgis saved\n",
            "/content/gdrive/MyDrive/CV/Face Landmark/image/unknown-align/4.jpgis saved\n",
            "/content/gdrive/MyDrive/CV/Face Landmark/image/unknown-align/5.jpgis saved\n",
            "/content/gdrive/MyDrive/CV/Face Landmark/image/unknown-align/6.jpgis saved\n",
            "/content/gdrive/MyDrive/CV/Face Landmark/image/unknown-align/7.jpgis saved\n",
            "/content/gdrive/MyDrive/CV/Face Landmark/image/unknown-align/8.jpgis saved\n",
            "/content/gdrive/MyDrive/CV/Face Landmark/image/unknown-align/9.jpgis saved\n",
            "/content/gdrive/MyDrive/CV/Face Landmark/image/unknown-align/10.jpgis saved\n",
            "/content/gdrive/MyDrive/CV/Face Landmark/image/unknown-align/11.jpgis saved\n",
            "/content/gdrive/MyDrive/CV/Face Landmark/image/unknown-align/12.jpgis saved\n",
            "/content/gdrive/MyDrive/CV/Face Landmark/image/unknown-align/13.jpgis saved\n",
            "/content/gdrive/MyDrive/CV/Face Landmark/image/unknown-align/14.jpgis saved\n",
            "/content/gdrive/MyDrive/CV/Face Landmark/image/unknown-align/15.jpgis saved\n",
            "/content/gdrive/MyDrive/CV/Face Landmark/image/unknown-align/16.jpgis saved\n",
            "/content/gdrive/MyDrive/CV/Face Landmark/image/unknown-align/17.jpgis saved\n",
            "/content/gdrive/MyDrive/CV/Face Landmark/image/unknown-align/18.jpgis saved\n",
            "/content/gdrive/MyDrive/CV/Face Landmark/image/unknown-align/19.jpgis saved\n",
            "/content/gdrive/MyDrive/CV/Face Landmark/image/unknown-align/20.jpgis saved\n",
            "/content/gdrive/MyDrive/CV/Face Landmark/image/unknown-align/21.jpgis saved\n",
            "/content/gdrive/MyDrive/CV/Face Landmark/image/unknown-align/22.jpgis saved\n",
            "/content/gdrive/MyDrive/CV/Face Landmark/image/unknown-align/23.jpgis saved\n",
            "/content/gdrive/MyDrive/CV/Face Landmark/image/unknown-align/24.jpgis saved\n",
            "/content/gdrive/MyDrive/CV/Face Landmark/image/unknown-align/25.jpgis saved\n",
            "/content/gdrive/MyDrive/CV/Face Landmark/image/unknown-align/26.jpgis saved\n",
            "/content/gdrive/MyDrive/CV/Face Landmark/image/unknown-align/27.jpgis saved\n",
            "/content/gdrive/MyDrive/CV/Face Landmark/image/unknown-align/28.jpgis saved\n",
            "/content/gdrive/MyDrive/CV/Face Landmark/image/unknown-align/29.jpgis saved\n",
            "/content/gdrive/MyDrive/CV/Face Landmark/image/unknown-align/30.jpgis saved\n",
            "/content/gdrive/MyDrive/CV/Face Landmark/image/unknown-align/31.jpgis saved\n",
            "/content/gdrive/MyDrive/CV/Face Landmark/image/unknown-align/32.jpgis saved\n",
            "/content/gdrive/MyDrive/CV/Face Landmark/image/unknown-align/33.jpgis saved\n",
            "/content/gdrive/MyDrive/CV/Face Landmark/image/unknown-align/34.jpgis saved\n",
            "/content/gdrive/MyDrive/CV/Face Landmark/image/unknown-align/35.jpgis saved\n",
            "/content/gdrive/MyDrive/CV/Face Landmark/image/unknown-align/36.jpgis saved\n",
            "/content/gdrive/MyDrive/CV/Face Landmark/image/unknown-align/37.jpgis saved\n",
            "/content/gdrive/MyDrive/CV/Face Landmark/image/unknown-align/38.jpgis saved\n",
            "/content/gdrive/MyDrive/CV/Face Landmark/image/unknown-align/39.jpgis saved\n",
            "/content/gdrive/MyDrive/CV/Face Landmark/image/unknown-align/40.jpgis saved\n",
            "/content/gdrive/MyDrive/CV/Face Landmark/image/unknown-align/41.jpgis saved\n",
            "/content/gdrive/MyDrive/CV/Face Landmark/image/unknown-align/42.jpgis saved\n",
            "/content/gdrive/MyDrive/CV/Face Landmark/image/unknown-align/43.jpgis saved\n",
            "/content/gdrive/MyDrive/CV/Face Landmark/image/unknown-align/44.jpgis saved\n",
            "/content/gdrive/MyDrive/CV/Face Landmark/image/unknown-align/45.jpgis saved\n",
            "/content/gdrive/MyDrive/CV/Face Landmark/image/unknown-align/46.jpgis saved\n"
          ]
        }
      ]
    },
    {
      "cell_type": "code",
      "source": [
        "# 결과 이미지 display\n",
        "# for X_batch, y_batch in ImageDataGenerator(rescale = 1./255).flow_from_directory('gdrive/MyDrive/CV/Cats vs Dogs/dog-vs-cat/train',\n",
        "#                                                                                  batch_size = 25, class_mode = 'binary', target_size = (150, 150)):\n",
        "#     plt.figure(figsize = (20, 20))\n",
        "#     # create a grid of 5x5 images\n",
        "#     for i in range(0, 25):\n",
        "#         ax = plt.subplot(5, 5, i+1)\n",
        "#         ax.set_title(findKey(train_generator.class_indices, y_batch[i]))    # 이미지의 label name 을 찾아준다.\n",
        "#         plt.imshow((X_batch[i].reshape(150, 150, 3)*255).astype(np.uint8))  # train 샘플 이미지를 보여준다.\n",
        "#     # show the plot\n",
        "#     plt.show()\n",
        "#     break"
      ],
      "metadata": {
        "id": "5ensRZOX58jp"
      },
      "execution_count": null,
      "outputs": []
    }
  ]
}