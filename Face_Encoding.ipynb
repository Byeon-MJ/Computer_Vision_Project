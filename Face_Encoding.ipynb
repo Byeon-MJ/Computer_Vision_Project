{
  "nbformat": 4,
  "nbformat_minor": 0,
  "metadata": {
    "colab": {
      "private_outputs": true,
      "provenance": [],
      "authorship_tag": "ABX9TyM1njOQsm0QfCTggsPJdC2s",
      "include_colab_link": true
    },
    "kernelspec": {
      "name": "python3",
      "display_name": "Python 3"
    },
    "language_info": {
      "name": "python"
    }
  },
  "cells": [
    {
      "cell_type": "markdown",
      "metadata": {
        "id": "view-in-github",
        "colab_type": "text"
      },
      "source": [
        "<a href=\"https://colab.research.google.com/github/Byeon-MJ/Computer_Vision_Project/blob/main/Face_Encoding.ipynb\" target=\"_parent\"><img src=\"https://colab.research.google.com/assets/colab-badge.svg\" alt=\"Open In Colab\"/></a>"
      ]
    },
    {
      "cell_type": "markdown",
      "source": [
        "# Face Encoding"
      ],
      "metadata": {
        "id": "LREqqxKN45BT"
      }
    },
    {
      "cell_type": "code",
      "execution_count": null,
      "metadata": {
        "id": "I90gmtN-rL2H"
      },
      "outputs": [],
      "source": [
        "from google.colab import drive\n",
        "drive.mount('/content/gdrive')"
      ]
    },
    {
      "cell_type": "markdown",
      "source": [
        "face_recognition 패키지 사용 위해 dlib이 먼저 설치되어있어야함\n",
        "\n",
        "dlib은 컴파일 하기 위해서 cmake 도 설치 필요 > Colab은 기본적으로 둘다 설치되어있음"
      ],
      "metadata": {
        "id": "MjVO5iE1rXQr"
      }
    },
    {
      "cell_type": "code",
      "source": [
        "# # cmake instll\n",
        "# !pip install cmake"
      ],
      "metadata": {
        "id": "P4gjc9_Rr5ea"
      },
      "execution_count": null,
      "outputs": []
    },
    {
      "cell_type": "code",
      "source": [
        "# # dlib install\n",
        "# !pip install dlib"
      ],
      "metadata": {
        "id": "cCxw2gapr8YD"
      },
      "execution_count": null,
      "outputs": []
    },
    {
      "cell_type": "code",
      "source": [
        "# face_recognition install\n",
        "!pip install face_recognition"
      ],
      "metadata": {
        "id": "XGWEFftGr_xy"
      },
      "execution_count": null,
      "outputs": []
    },
    {
      "cell_type": "code",
      "source": [
        "# 모듈 임포트\n",
        "import cv2\n",
        "import face_recognition\n",
        "import pickle"
      ],
      "metadata": {
        "id": "ZRTRY0kasJdX"
      },
      "execution_count": null,
      "outputs": []
    },
    {
      "cell_type": "code",
      "source": [
        "# 학습시킬 이미지 dataset 경로 지정\n",
        "dataset_paths = ['/content/gdrive/MyDrive/CV/Face Recognition/dataset/Chun/']\n",
        "\n",
        "names = ['Chun']       # name 지정\n",
        "number_images = 10      # 학습시킬 이미지 수\n",
        "image_type = '.jpg'     # 이미지 확장자 지정\n",
        "encoding_file = 'encodings.pickle'  # 128개의 vector 값 저장할 파일명\n",
        "model_method = 'cnn'    # cnn or hog. CNN 은 정확도가 높지만 느리고, hog는 빠르지만 정확도가 떨어짐"
      ],
      "metadata": {
        "id": "xtbemA9xyIRn"
      },
      "execution_count": null,
      "outputs": []
    },
    {
      "cell_type": "code",
      "source": [
        "knownEncodings = []     # 특성값 저장할 배열 지정\n",
        "knownNames = []         # name을 저장할 배열 지정\n",
        "\n",
        "for (i, dataset_path) in enumerate(dataset_paths):\n",
        "    # person name을 names에서 추출\n",
        "    name = names[i]\n",
        "\n",
        "    for idx in range(number_images):\n",
        "        file_name = dataset_path + str(idx + 1) + image_type\n",
        "\n",
        "        image = cv2.imread(file_name)\n",
        "\n",
        "        # 이미지를 face_recognition 에서 처리하기 위해 RGB 형식으로 변경\n",
        "        rgb = cv2.cvtColor(image, cv2.COLOR_BGR2RGB)\n",
        "\n",
        "        # 얼굴을 detection하고 boxing\n",
        "        boxes = face_recognition.face_locations(rgb, model = model_method)\n",
        "\n",
        "        # 얼굴 영역(boxing Area)만 encoding 계산\n",
        "        encodings = face_recognition.face_encodings(rgb, boxes)\n",
        "\n",
        "        # loop over the encodings\n",
        "        for encoding in encodings:\n",
        "            print(file_name, name, encoding)\n",
        "            knownEncodings.append(encoding)\n",
        "            knownNames.append(name)"
      ],
      "metadata": {
        "id": "JzCConRQ0fZz"
      },
      "execution_count": null,
      "outputs": []
    },
    {
      "cell_type": "code",
      "source": [
        "# encoding과 name을 Dictionary 타입으로 저장\n",
        "data = {\"encodings\": knownEncodings, \"names\": knownNames}\n",
        "f = open(encoding_file, 'wb')\n",
        "f.write(pickle.dumps(data))\n",
        "f.close()"
      ],
      "metadata": {
        "id": "e43EtqZA16b5"
      },
      "execution_count": null,
      "outputs": []
    }
  ]
}