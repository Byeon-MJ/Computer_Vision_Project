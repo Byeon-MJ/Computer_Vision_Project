{
  "nbformat": 4,
  "nbformat_minor": 0,
  "metadata": {
    "colab": {
      "private_outputs": true,
      "provenance": [],
      "authorship_tag": "ABX9TyMudtSbcCb2G3NnMbgCvL5b",
      "include_colab_link": true
    },
    "kernelspec": {
      "name": "python3",
      "display_name": "Python 3"
    },
    "language_info": {
      "name": "python"
    }
  },
  "cells": [
    {
      "cell_type": "markdown",
      "metadata": {
        "id": "view-in-github",
        "colab_type": "text"
      },
      "source": [
        "<a href=\"https://colab.research.google.com/github/Byeon-MJ/DL_Computer_Vision/blob/main/Face_Tracking.ipynb\" target=\"_parent\"><img src=\"https://colab.research.google.com/assets/colab-badge.svg\" alt=\"Open In Colab\"/></a>"
      ]
    },
    {
      "cell_type": "markdown",
      "source": [
        "# Face Tracking\n"
      ],
      "metadata": {
        "id": "4xSLD2jDHCTH"
      }
    },
    {
      "cell_type": "markdown",
      "source": [
        "## Tracking 하는 이유?\n",
        "- Tracking이 Detection보다 처리속도가 빠르다\n",
        "- 따라서 제일 처음에만 Detection하고 이후에는 Tracking을 해서 부드럽게 Tracking 하도록 구현"
      ],
      "metadata": {
        "id": "jFxDuJMbHTrw"
      }
    },
    {
      "cell_type": "code",
      "source": [
        "from google.colab import drive\n",
        "drive.mount('/content/gdrive')"
      ],
      "metadata": {
        "id": "G-NTD-nnHiER"
      },
      "execution_count": null,
      "outputs": []
    },
    {
      "cell_type": "code",
      "source": [
        "import cv2\n",
        "import time"
      ],
      "metadata": {
        "id": "2uN2nl2QHnqZ"
      },
      "execution_count": null,
      "outputs": []
    },
    {
      "cell_type": "markdown",
      "source": [
        "## Object Tracker mode 설정"
      ],
      "metadata": {
        "id": "XbVSxJuUINkr"
      }
    },
    {
      "cell_type": "code",
      "source": [
        "# csrt\n",
        "# tracker = cv2.TrackerCSRT_create()\n",
        "# kcf\n",
        "tracker = cv2.TrackerKCF_create()\n",
        "# boosting\n",
        "# tracker = cv2.TrackerBoosting_create()\n",
        "# mil\n",
        "# tracker = cv2.TrackerMIL_create()\n",
        "# tld\n",
        "# tracker = cv2.TrackerTLD_create()\n",
        "# medianflow\n",
        "# tracker = cv2.TrackerMedianFlow_create()\n",
        "# mosse\n",
        "# tracker = cv2.TrackerMOSSE_create()"
      ],
      "metadata": {
        "id": "kcg1aa4oH_KQ"
      },
      "execution_count": null,
      "outputs": []
    },
    {
      "cell_type": "code",
      "source": [
        "# 얼굴을 인식하는 haarcascade feature 파일\n",
        "face_cascade_name = '/content/gdrive/MyDrive/CV/Face Detection/data/haarcascades/haarcascade_frontalface_alt.xml'\n",
        "# face_cascade 객체 생성\n",
        "face_cascade = cv2.CascadeClassifier()\n",
        "\n",
        "if not face_cascade.load(cv2.samples.findFile(face_cascade_name)):\n",
        "    print('### Error loading face cascade ###')\n",
        "    exit(0)"
      ],
      "metadata": {
        "id": "BCTlLMfbIn0x"
      },
      "execution_count": null,
      "outputs": []
    },
    {
      "cell_type": "code",
      "source": [
        "# 원본 동영상\n",
        "file_name = '/content/gdrive/MyDrive/CV/Face Tracking/mytracking.mp4'\n",
        "# Tracking 된 output 동영상\n",
        "output_name = 'face_tracking_video.mp4'\n",
        "\n",
        "# 변수 초기화\n",
        "frame_count = 0\n",
        "detected = False\n",
        "frame_mode = 'Tracking'\n",
        "elapsed_time = 0"
      ],
      "metadata": {
        "id": "RdF4U-GOT8Hd"
      },
      "execution_count": null,
      "outputs": []
    },
    {
      "cell_type": "code",
      "source": [
        "# 원본 동영상 로드\n",
        "cap = cv2.VideoCapture(file_name)\n",
        "\n",
        "# 원본 동영상 오픈 여부 확인\n",
        "if not cap.isOpened:\n",
        "    print('--(!) Error opening video capture')\n",
        "    exit(0)\n",
        "\n",
        "writer = None\n",
        "\n",
        "# trackers 객체 생성\n",
        "trackers = cv2.legacy.MultiTracker_create()"
      ],
      "metadata": {
        "id": "rBC8Axo-UVJj"
      },
      "execution_count": null,
      "outputs": []
    },
    {
      "cell_type": "code",
      "source": [
        "while True:\n",
        "    # 원본 동영상에서 frame을 읽는다\n",
        "    ret, frame = cap.read()\n",
        "\n",
        "    # 원본 동영상에서 더 이상 frame을 읽지 못하면 Exit\n",
        "    if frame is None:\n",
        "        # close the video file pointers\n",
        "        cap.release()\n",
        "        # close the writer point\n",
        "        writer.release()\n",
        "        print('--(!) No captured frame -- Break!')\n",
        "        print(f'elapsed time {elapsed_time:.3f} seconds')\n",
        "        break\n",
        "    \n",
        "    start_time = time.time()\n",
        "    frame_count += 1\n",
        "\n",
        "    if detected:\n",
        "        frame_mode = 'Tracking'\n",
        "        # trackers 객체가 tracking 하여 변경된 boxing 영역 위치 좌표를 업데이트\n",
        "        (success, boxes) = trackers.update(frame)\n",
        "        for box in boxes:\n",
        "            "
      ],
      "metadata": {
        "id": "kPbJ8y3CV0x2"
      },
      "execution_count": null,
      "outputs": []
    }
  ]
}