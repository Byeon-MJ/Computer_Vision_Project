{
  "nbformat": 4,
  "nbformat_minor": 0,
  "metadata": {
    "colab": {
      "provenance": [],
      "authorship_tag": "ABX9TyP1V413qAohwHi29Pgewb11",
      "include_colab_link": true
    },
    "kernelspec": {
      "name": "python3",
      "display_name": "Python 3"
    },
    "language_info": {
      "name": "python"
    },
    "accelerator": "GPU",
    "gpuClass": "standard"
  },
  "cells": [
    {
      "cell_type": "markdown",
      "metadata": {
        "id": "view-in-github",
        "colab_type": "text"
      },
      "source": [
        "<a href=\"https://colab.research.google.com/github/Byeon-MJ/Computer_Vision_Project/blob/main/Hadwritten_Digits_Classification.ipynb\" target=\"_parent\"><img src=\"https://colab.research.google.com/assets/colab-badge.svg\" alt=\"Open In Colab\"/></a>"
      ]
    },
    {
      "cell_type": "code",
      "execution_count": 1,
      "metadata": {
        "id": "_ZEBliupJIJ1"
      },
      "outputs": [],
      "source": [
        "# 모듈 임포트\n",
        "import tensorflow as tf\n",
        "from tensorflow import keras\n",
        "import numpy as np\n",
        "import matplotlib.pyplot as plt\n",
        "import math"
      ]
    },
    {
      "cell_type": "code",
      "source": [
        "# 상수 정의\n",
        "batch_size = 128    # batch size\n",
        "num_classes = 10    # 분류 클래스 종류(0 ~ 9 까지의 숫자)\n",
        "epochs = 100        # training 횟수"
      ],
      "metadata": {
        "id": "wgjMVWG1JmpQ"
      },
      "execution_count": 2,
      "outputs": []
    },
    {
      "cell_type": "code",
      "source": [
        "# 25개 샘플 이미지 Display하는 함수 정의\n",
        "def show_sample(images, labels, sample_count=25):\n",
        "    grid_count = math.ceil(math.ceil(math.sqrt(sample_count)))\n",
        "    grid_count = min(grid_count, len(images), len(labels))\n",
        "\n",
        "    plt.figure(figsize=(2*grid_count, 2*grid_count))\n",
        "\n",
        "    for i in range(sample_count):\n",
        "        plt.subplot(grid_count, grid_count, i+1)\n",
        "        plt.xticks([])\n",
        "        plt.yticks([])\n",
        "        plt.grid(False)\n",
        "        plt.imshow(images[i], cmap=plt.cm.gray)\n",
        "        plt.xlabel(labels[i])\n",
        "    \n",
        "    plt.show()"
      ],
      "metadata": {
        "id": "poU7Y1rTKLOI"
      },
      "execution_count": 3,
      "outputs": []
    },
    {
      "cell_type": "code",
      "source": [
        "# 특정한 숫자(Digit)만 25개 Display 함수 정의\n",
        "def show_sample_digit(images, labels, digit, sample_count = 25):\n",
        "    grid_count = math.ceil(math.ceil(math.sqrt(sample_count)))\n",
        "    grid_count = min(grid_count, len(images), len(labels))\n",
        "\n",
        "    plt.figure(figsize = (2 * grid_count, 2 * grid_count))\n",
        "    i = 0\n",
        "    digit_count = 0\n",
        "    \n",
        "    while digit_count < sample_count:\n",
        "        i += 1\n",
        "        if (digit == labels[i]):\n",
        "            plt.subplot(grid_count, grid_count, digit_count+1)\n",
        "            plt.xticks([])\n",
        "            plt.yticks([])\n",
        "            plt.grid(False)\n",
        "            plt.imshow(images[i], cmap=plt.cm.gray)\n",
        "            plt.xlabel(labels[i])\n",
        "            digit_count += 1\n",
        "    \n",
        "    plt.show()"
      ],
      "metadata": {
        "id": "8U0bjHwCLLyv"
      },
      "execution_count": 4,
      "outputs": []
    },
    {
      "cell_type": "code",
      "source": [
        "# digit의 이미지와 예측한 label을 Display 함수 정의\n",
        "def show_digit_image(image):\n",
        "     # Draw digit image\n",
        "     fig = plt.figure()\n",
        "     ax = fig.add_subplot(1, 1, 1)\n",
        "\n",
        "     # Major ticks every 20, minor ticks every 5\n",
        "     major_ticks = np.arange(0, 29, 5)\n",
        "     minor_ticks = np.arange(0, 29, 1)\n",
        "     ax.set_xticks(major_ticks)\n",
        "     ax.set_xticks(minor_ticks, minor=True)\n",
        "     ax.set_yticks(major_ticks)\n",
        "     ax.set_yticks(minor_ticks, minor=True)\n",
        "\n",
        "     # corresponding grid\n",
        "     ax.grid(which = 'both')\n",
        "\n",
        "     # different settings for the grids:\n",
        "     ax.grid(which='minor', alpha=0.2)\n",
        "     ax.grid(which='major', alpha=0.5)\n",
        "     ax.imshow(image, cmap=plt.cm.binary)\n",
        "\n",
        "     plt.show()"
      ],
      "metadata": {
        "id": "ZbuXShvrM33Y"
      },
      "execution_count": 5,
      "outputs": []
    },
    {
      "cell_type": "code",
      "source": [
        "# MNIST dataset 다운로드\n",
        "mnist = keras.datasets.mnist\n",
        "(train_images, train_labels), (test_images, test_labels) = mnist.load_data()"
      ],
      "metadata": {
        "colab": {
          "base_uri": "https://localhost:8080/"
        },
        "id": "buk7KQDXPOfs",
        "outputId": "94ce0e6c-c667-4ad7-c475-a3c9382c5a7c"
      },
      "execution_count": 6,
      "outputs": [
        {
          "output_type": "stream",
          "name": "stdout",
          "text": [
            "Downloading data from https://storage.googleapis.com/tensorflow/tf-keras-datasets/mnist.npz\n",
            "11490434/11490434 [==============================] - 2s 0us/step\n"
          ]
        }
      ]
    },
    {
      "cell_type": "code",
      "source": [
        "train_images.shape"
      ],
      "metadata": {
        "colab": {
          "base_uri": "https://localhost:8080/"
        },
        "id": "jLa5A0rdPTMs",
        "outputId": "7e2079b6-e99e-468d-ffb3-c8ae2aea73ed"
      },
      "execution_count": 7,
      "outputs": [
        {
          "output_type": "execute_result",
          "data": {
            "text/plain": [
              "(60000, 28, 28)"
            ]
          },
          "metadata": {},
          "execution_count": 7
        }
      ]
    },
    {
      "cell_type": "code",
      "source": [
        "train_labels.shape"
      ],
      "metadata": {
        "colab": {
          "base_uri": "https://localhost:8080/"
        },
        "id": "BLd_WvUfPrCL",
        "outputId": "6ff7111f-7ea2-4530-98a6-9409cb0df959"
      },
      "execution_count": 8,
      "outputs": [
        {
          "output_type": "execute_result",
          "data": {
            "text/plain": [
              "(60000,)"
            ]
          },
          "metadata": {},
          "execution_count": 8
        }
      ]
    },
    {
      "cell_type": "code",
      "source": [
        "test_images.shape"
      ],
      "metadata": {
        "colab": {
          "base_uri": "https://localhost:8080/"
        },
        "id": "48EuhXM6PxH0",
        "outputId": "9c7180ec-551c-4159-ad57-c41079e6d50c"
      },
      "execution_count": 9,
      "outputs": [
        {
          "output_type": "execute_result",
          "data": {
            "text/plain": [
              "(10000, 28, 28)"
            ]
          },
          "metadata": {},
          "execution_count": 9
        }
      ]
    },
    {
      "cell_type": "code",
      "source": [
        "test_labels.shape"
      ],
      "metadata": {
        "colab": {
          "base_uri": "https://localhost:8080/"
        },
        "id": "OFLEiVn_Py1j",
        "outputId": "4abff02c-874e-41d1-fbbd-5aac3abde42d"
      },
      "execution_count": 10,
      "outputs": [
        {
          "output_type": "execute_result",
          "data": {
            "text/plain": [
              "(10000,)"
            ]
          },
          "metadata": {},
          "execution_count": 10
        }
      ]
    },
    {
      "cell_type": "code",
      "source": [
        "# Input image Normalization\n",
        "train_images = train_images / 255.0     # 픽셀값을 0~1 범위로 변환\n",
        "test_images = test_images / 255.0"
      ],
      "metadata": {
        "id": "jJgRr_DpP15L"
      },
      "execution_count": 11,
      "outputs": []
    },
    {
      "cell_type": "code",
      "source": [
        "# 샘플 이미지 Display\n",
        "show_sample(train_images, ['Label: %s' % label for label in train_labels])"
      ],
      "metadata": {
        "colab": {
          "base_uri": "https://localhost:8080/",
          "height": 589
        },
        "id": "t-uipeaAQdyE",
        "outputId": "d7d9df6d-c84f-4ea7-e978-a7025dc523fc"
      },
      "execution_count": 12,
      "outputs": [
        {
          "output_type": "display_data",
          "data": {
            "text/plain": [
              "<Figure size 720x720 with 25 Axes>"
            ],
            "image/png": "[encoded data removed]"
          },
          "metadata": {}
        }
      ]
    },
    {
      "cell_type": "code",
      "source": [
        "# training dataset에서 특정한 숫자만 Display\n",
        "show_sample_digit(train_images, train_labels, 3)"
      ],
      "metadata": {
        "colab": {
          "base_uri": "https://localhost:8080/",
          "height": 589
        },
        "id": "jniWfnIGRJW-",
        "outputId": "d242dfea-6863-4207-993a-6bc2be7eb7b9"
      },
      "execution_count": 13,
      "outputs": [
        {
          "output_type": "display_data",
          "data": {
            "text/plain": [
              "<Figure size 720x720 with 25 Axes>"
            ],
            "image/png": "[encoded data removed]"
          },
          "metadata": {}
        }
      ]
    },
    {
      "cell_type": "code",
      "source": [
        "# 분류 모델 생성\n",
        "model = keras.Sequential([\n",
        "    keras.layers.Flatten(input_shape=(28, 28)),\n",
        "\n",
        "    # keras.layers.Dense(128, activation=tf.nn.relu),\n",
        "    keras.layers.Reshape(target_shape=(28, 28, 1)),\n",
        "    keras.layers.Conv2D(filters=32, kernel_size=(3, 3), activation=tf.nn.relu),\n",
        "    keras.layers.Conv2D(filters=64, kernel_size=(3, 3), activation=tf.nn.relu),\n",
        "    keras.layers.MaxPooling2D(pool_size=(2, 2)),\n",
        "    keras.layers.Dropout(0.25),\n",
        "    keras.layers.Flatten(input_shape=(28, 28)),\n",
        "    keras.layers.Dense(128, activation=tf.nn.relu),\n",
        "    keras.layers.Dropout(0.5),\n",
        "    keras.layers.Dense(10)\n",
        "])\n",
        "\n",
        "model.compile(optimizer = 'adam', \n",
        "              loss = tf.keras.losses.SparseCategoricalCrossentropy(from_logits = True),\n",
        "              metrics = ['accuracy'])"
      ],
      "metadata": {
        "id": "GbArfKcJQrQ8"
      },
      "execution_count": 14,
      "outputs": []
    },
    {
      "cell_type": "code",
      "source": [
        "# 모델 저장 옵션 정의\n",
        "modelCheckpoint = tf.keras.callbacks.ModelCheckpoint('digits_model.h5', save_best_only = True)"
      ],
      "metadata": {
        "id": "Iy-GMfS0cCif"
      },
      "execution_count": 15,
      "outputs": []
    },
    {
      "cell_type": "code",
      "source": [
        "model.summary()"
      ],
      "metadata": {
        "colab": {
          "base_uri": "https://localhost:8080/"
        },
        "id": "e0QvRr2O37BR",
        "outputId": "9865f6e2-5777-4f1a-bf9b-1b90747567ff"
      },
      "execution_count": 16,
      "outputs": [
        {
          "output_type": "stream",
          "name": "stdout",
          "text": [
            "Model: \"sequential\"\n",
            "_________________________________________________________________\n",
            " Layer (type)                Output Shape              Param #   \n",
            "=================================================================\n",
            " flatten (Flatten)           (None, 784)               0         \n",
            "                                                                 \n",
            " reshape (Reshape)           (None, 28, 28, 1)         0         \n",
            "                                                                 \n",
            " conv2d (Conv2D)             (None, 26, 26, 32)        320       \n",
            "                                                                 \n",
            " conv2d_1 (Conv2D)           (None, 24, 24, 64)        18496     \n",
            "                                                                 \n",
            " max_pooling2d (MaxPooling2D  (None, 12, 12, 64)       0         \n",
            " )                                                               \n",
            "                                                                 \n",
            " dropout (Dropout)           (None, 12, 12, 64)        0         \n",
            "                                                                 \n",
            " flatten_1 (Flatten)         (None, 9216)              0         \n",
            "                                                                 \n",
            " dense (Dense)               (None, 128)               1179776   \n",
            "                                                                 \n",
            " dropout_1 (Dropout)         (None, 128)               0         \n",
            "                                                                 \n",
            " dense_1 (Dense)             (None, 10)                1290      \n",
            "                                                                 \n",
            "=================================================================\n",
            "Total params: 1,199,882\n",
            "Trainable params: 1,199,882\n",
            "Non-trainable params: 0\n",
            "_________________________________________________________________\n"
          ]
        }
      ]
    },
    {
      "cell_type": "code",
      "source": [
        "# 모델 학습\n",
        "history = model.fit(train_images, train_labels,\n",
        "                    validation_data = (test_images, test_labels),\n",
        "                    epochs = epochs, batch_size = batch_size,\n",
        "                    callbacks = [modelCheckpoint])"
      ],
      "metadata": {
        "colab": {
          "base_uri": "https://localhost:8080/"
        },
        "id": "2QBi762LdNgM",
        "outputId": "95982ba5-2b51-4365-f224-4048a8e8a7b8"
      },
      "execution_count": 17,
      "outputs": [
        {
          "output_type": "stream",
          "name": "stdout",
          "text": [
            "Epoch 1/100\n",
            "469/469 [==============================] - 12s 10ms/step - loss: 0.2548 - accuracy: 0.9234 - val_loss: 0.0566 - val_accuracy: 0.9812\n",
            "Epoch 2/100\n",
            "469/469 [==============================] - 4s 9ms/step - loss: 0.0894 - accuracy: 0.9733 - val_loss: 0.0442 - val_accuracy: 0.9852\n",
            "Epoch 3/100\n",
            "469/469 [==============================] - 4s 9ms/step - loss: 0.0671 - accuracy: 0.9794 - val_loss: 0.0328 - val_accuracy: 0.9885\n",
            "Epoch 4/100\n",
            "469/469 [==============================] - 4s 9ms/step - loss: 0.0558 - accuracy: 0.9829 - val_loss: 0.0292 - val_accuracy: 0.9902\n",
            "Epoch 5/100\n",
            "469/469 [==============================] - 4s 9ms/step - loss: 0.0473 - accuracy: 0.9853 - val_loss: 0.0314 - val_accuracy: 0.9900\n",
            "Epoch 6/100\n",
            "469/469 [==============================] - 4s 9ms/step - loss: 0.0399 - accuracy: 0.9875 - val_loss: 0.0284 - val_accuracy: 0.9904\n",
            "Epoch 7/100\n",
            "469/469 [==============================] - 5s 10ms/step - loss: 0.0352 - accuracy: 0.9891 - val_loss: 0.0294 - val_accuracy: 0.9899\n",
            "Epoch 8/100\n",
            "469/469 [==============================] - 4s 9ms/step - loss: 0.0333 - accuracy: 0.9891 - val_loss: 0.0313 - val_accuracy: 0.9905\n",
            "Epoch 9/100\n",
            "469/469 [==============================] - 4s 9ms/step - loss: 0.0306 - accuracy: 0.9902 - val_loss: 0.0285 - val_accuracy: 0.9925\n",
            "Epoch 10/100\n",
            "469/469 [==============================] - 4s 9ms/step - loss: 0.0265 - accuracy: 0.9914 - val_loss: 0.0299 - val_accuracy: 0.9914\n",
            "Epoch 11/100\n",
            "469/469 [==============================] - 4s 9ms/step - loss: 0.0251 - accuracy: 0.9914 - val_loss: 0.0269 - val_accuracy: 0.9922\n",
            "Epoch 12/100\n",
            "469/469 [==============================] - 4s 9ms/step - loss: 0.0230 - accuracy: 0.9922 - val_loss: 0.0256 - val_accuracy: 0.9923\n",
            "Epoch 13/100\n",
            "469/469 [==============================] - 4s 9ms/step - loss: 0.0219 - accuracy: 0.9928 - val_loss: 0.0291 - val_accuracy: 0.9915\n",
            "Epoch 14/100\n",
            "469/469 [==============================] - 4s 9ms/step - loss: 0.0190 - accuracy: 0.9932 - val_loss: 0.0305 - val_accuracy: 0.9916\n",
            "Epoch 15/100\n",
            "469/469 [==============================] - 4s 9ms/step - loss: 0.0181 - accuracy: 0.9942 - val_loss: 0.0301 - val_accuracy: 0.9919\n",
            "Epoch 16/100\n",
            "469/469 [==============================] - 4s 9ms/step - loss: 0.0177 - accuracy: 0.9941 - val_loss: 0.0275 - val_accuracy: 0.9917\n",
            "Epoch 17/100\n",
            "469/469 [==============================] - 5s 10ms/step - loss: 0.0179 - accuracy: 0.9940 - val_loss: 0.0315 - val_accuracy: 0.9909\n",
            "Epoch 18/100\n",
            "469/469 [==============================] - 4s 9ms/step - loss: 0.0161 - accuracy: 0.9946 - val_loss: 0.0287 - val_accuracy: 0.9940\n",
            "Epoch 19/100\n",
            "469/469 [==============================] - 4s 9ms/step - loss: 0.0137 - accuracy: 0.9953 - val_loss: 0.0315 - val_accuracy: 0.9929\n",
            "Epoch 20/100\n",
            "469/469 [==============================] - 4s 9ms/step - loss: 0.0143 - accuracy: 0.9950 - val_loss: 0.0294 - val_accuracy: 0.9932\n",
            "Epoch 21/100\n",
            "469/469 [==============================] - 4s 9ms/step - loss: 0.0140 - accuracy: 0.9954 - val_loss: 0.0329 - val_accuracy: 0.9925\n",
            "Epoch 22/100\n",
            "469/469 [==============================] - 4s 9ms/step - loss: 0.0137 - accuracy: 0.9952 - val_loss: 0.0404 - val_accuracy: 0.9905\n",
            "Epoch 23/100\n",
            "469/469 [==============================] - 4s 9ms/step - loss: 0.0131 - accuracy: 0.9954 - val_loss: 0.0329 - val_accuracy: 0.9928\n",
            "Epoch 24/100\n",
            "469/469 [==============================] - 4s 9ms/step - loss: 0.0135 - accuracy: 0.9953 - val_loss: 0.0359 - val_accuracy: 0.9913\n",
            "Epoch 25/100\n",
            "469/469 [==============================] - 4s 9ms/step - loss: 0.0120 - accuracy: 0.9959 - val_loss: 0.0319 - val_accuracy: 0.9928\n",
            "Epoch 26/100\n",
            "469/469 [==============================] - 4s 9ms/step - loss: 0.0106 - accuracy: 0.9962 - val_loss: 0.0394 - val_accuracy: 0.9925\n",
            "Epoch 27/100\n",
            "469/469 [==============================] - 5s 10ms/step - loss: 0.0105 - accuracy: 0.9964 - val_loss: 0.0336 - val_accuracy: 0.9927\n",
            "Epoch 28/100\n",
            "469/469 [==============================] - 4s 9ms/step - loss: 0.0112 - accuracy: 0.9960 - val_loss: 0.0343 - val_accuracy: 0.9926\n",
            "Epoch 29/100\n",
            "469/469 [==============================] - 4s 9ms/step - loss: 0.0108 - accuracy: 0.9965 - val_loss: 0.0336 - val_accuracy: 0.9925\n",
            "Epoch 30/100\n",
            "469/469 [==============================] - 4s 9ms/step - loss: 0.0093 - accuracy: 0.9966 - val_loss: 0.0418 - val_accuracy: 0.9913\n",
            "Epoch 31/100\n",
            "469/469 [==============================] - 4s 9ms/step - loss: 0.0091 - accuracy: 0.9967 - val_loss: 0.0347 - val_accuracy: 0.9927\n",
            "Epoch 32/100\n",
            "469/469 [==============================] - 4s 9ms/step - loss: 0.0092 - accuracy: 0.9966 - val_loss: 0.0310 - val_accuracy: 0.9936\n",
            "Epoch 33/100\n",
            "469/469 [==============================] - 4s 9ms/step - loss: 0.0096 - accuracy: 0.9967 - val_loss: 0.0327 - val_accuracy: 0.9934\n",
            "Epoch 34/100\n",
            "469/469 [==============================] - 4s 9ms/step - loss: 0.0105 - accuracy: 0.9964 - val_loss: 0.0310 - val_accuracy: 0.9933\n",
            "Epoch 35/100\n",
            "469/469 [==============================] - 4s 9ms/step - loss: 0.0085 - accuracy: 0.9971 - val_loss: 0.0336 - val_accuracy: 0.9927\n",
            "Epoch 36/100\n",
            "469/469 [==============================] - 4s 9ms/step - loss: 0.0097 - accuracy: 0.9969 - val_loss: 0.0360 - val_accuracy: 0.9928\n",
            "Epoch 37/100\n",
            "469/469 [==============================] - 4s 9ms/step - loss: 0.0086 - accuracy: 0.9971 - val_loss: 0.0353 - val_accuracy: 0.9925\n",
            "Epoch 38/100\n",
            "469/469 [==============================] - 4s 9ms/step - loss: 0.0098 - accuracy: 0.9966 - val_loss: 0.0321 - val_accuracy: 0.9932\n",
            "Epoch 39/100\n",
            "469/469 [==============================] - 4s 9ms/step - loss: 0.0085 - accuracy: 0.9969 - val_loss: 0.0366 - val_accuracy: 0.9931\n",
            "Epoch 40/100\n",
            "469/469 [==============================] - 4s 9ms/step - loss: 0.0073 - accuracy: 0.9976 - val_loss: 0.0361 - val_accuracy: 0.9933\n",
            "Epoch 41/100\n",
            "469/469 [==============================] - 4s 9ms/step - loss: 0.0082 - accuracy: 0.9973 - val_loss: 0.0400 - val_accuracy: 0.9924\n",
            "Epoch 42/100\n",
            "469/469 [==============================] - 4s 9ms/step - loss: 0.0078 - accuracy: 0.9976 - val_loss: 0.0365 - val_accuracy: 0.9925\n",
            "Epoch 43/100\n",
            "469/469 [==============================] - 4s 9ms/step - loss: 0.0081 - accuracy: 0.9971 - val_loss: 0.0364 - val_accuracy: 0.9921\n",
            "Epoch 44/100\n",
            "469/469 [==============================] - 4s 9ms/step - loss: 0.0065 - accuracy: 0.9978 - val_loss: 0.0409 - val_accuracy: 0.9934\n",
            "Epoch 45/100\n",
            "469/469 [==============================] - 4s 9ms/step - loss: 0.0072 - accuracy: 0.9977 - val_loss: 0.0381 - val_accuracy: 0.9934\n",
            "Epoch 46/100\n",
            "469/469 [==============================] - 4s 9ms/step - loss: 0.0070 - accuracy: 0.9975 - val_loss: 0.0400 - val_accuracy: 0.9932\n",
            "Epoch 47/100\n",
            "469/469 [==============================] - 4s 9ms/step - loss: 0.0076 - accuracy: 0.9974 - val_loss: 0.0394 - val_accuracy: 0.9934\n",
            "Epoch 48/100\n",
            "469/469 [==============================] - 4s 9ms/step - loss: 0.0064 - accuracy: 0.9978 - val_loss: 0.0354 - val_accuracy: 0.9937\n",
            "Epoch 49/100\n",
            "469/469 [==============================] - 4s 9ms/step - loss: 0.0065 - accuracy: 0.9979 - val_loss: 0.0364 - val_accuracy: 0.9935\n",
            "Epoch 50/100\n",
            "469/469 [==============================] - 4s 9ms/step - loss: 0.0082 - accuracy: 0.9973 - val_loss: 0.0369 - val_accuracy: 0.9933\n",
            "Epoch 51/100\n",
            "469/469 [==============================] - 4s 9ms/step - loss: 0.0084 - accuracy: 0.9973 - val_loss: 0.0364 - val_accuracy: 0.9932\n",
            "Epoch 52/100\n",
            "469/469 [==============================] - 4s 9ms/step - loss: 0.0071 - accuracy: 0.9976 - val_loss: 0.0401 - val_accuracy: 0.9926\n",
            "Epoch 53/100\n",
            "469/469 [==============================] - 4s 9ms/step - loss: 0.0055 - accuracy: 0.9982 - val_loss: 0.0348 - val_accuracy: 0.9930\n",
            "Epoch 54/100\n",
            "469/469 [==============================] - 4s 9ms/step - loss: 0.0061 - accuracy: 0.9979 - val_loss: 0.0386 - val_accuracy: 0.9929\n",
            "Epoch 55/100\n",
            "469/469 [==============================] - 4s 9ms/step - loss: 0.0055 - accuracy: 0.9979 - val_loss: 0.0374 - val_accuracy: 0.9927\n",
            "Epoch 56/100\n",
            "469/469 [==============================] - 4s 9ms/step - loss: 0.0070 - accuracy: 0.9976 - val_loss: 0.0382 - val_accuracy: 0.9931\n",
            "Epoch 57/100\n",
            "469/469 [==============================] - 4s 9ms/step - loss: 0.0052 - accuracy: 0.9979 - val_loss: 0.0445 - val_accuracy: 0.9923\n",
            "Epoch 58/100\n",
            "469/469 [==============================] - 4s 9ms/step - loss: 0.0069 - accuracy: 0.9978 - val_loss: 0.0365 - val_accuracy: 0.9936\n",
            "Epoch 59/100\n",
            "469/469 [==============================] - 4s 9ms/step - loss: 0.0078 - accuracy: 0.9976 - val_loss: 0.0368 - val_accuracy: 0.9935\n",
            "Epoch 60/100\n",
            "469/469 [==============================] - 4s 9ms/step - loss: 0.0060 - accuracy: 0.9981 - val_loss: 0.0370 - val_accuracy: 0.9935\n",
            "Epoch 61/100\n",
            "469/469 [==============================] - 4s 9ms/step - loss: 0.0062 - accuracy: 0.9979 - val_loss: 0.0397 - val_accuracy: 0.9930\n",
            "Epoch 62/100\n",
            "469/469 [==============================] - 4s 9ms/step - loss: 0.0061 - accuracy: 0.9980 - val_loss: 0.0430 - val_accuracy: 0.9923\n",
            "Epoch 63/100\n",
            "469/469 [==============================] - 4s 9ms/step - loss: 0.0053 - accuracy: 0.9982 - val_loss: 0.0418 - val_accuracy: 0.9929\n",
            "Epoch 64/100\n",
            "469/469 [==============================] - 4s 9ms/step - loss: 0.0054 - accuracy: 0.9984 - val_loss: 0.0437 - val_accuracy: 0.9935\n",
            "Epoch 65/100\n",
            "469/469 [==============================] - 4s 9ms/step - loss: 0.0059 - accuracy: 0.9979 - val_loss: 0.0426 - val_accuracy: 0.9929\n",
            "Epoch 66/100\n",
            "469/469 [==============================] - 4s 9ms/step - loss: 0.0060 - accuracy: 0.9979 - val_loss: 0.0428 - val_accuracy: 0.9933\n",
            "Epoch 67/100\n",
            "469/469 [==============================] - 4s 9ms/step - loss: 0.0050 - accuracy: 0.9982 - val_loss: 0.0398 - val_accuracy: 0.9929\n",
            "Epoch 68/100\n",
            "469/469 [==============================] - 4s 9ms/step - loss: 0.0053 - accuracy: 0.9982 - val_loss: 0.0422 - val_accuracy: 0.9936\n",
            "Epoch 69/100\n",
            "469/469 [==============================] - 4s 9ms/step - loss: 0.0061 - accuracy: 0.9981 - val_loss: 0.0439 - val_accuracy: 0.9930\n",
            "Epoch 70/100\n",
            "469/469 [==============================] - 4s 9ms/step - loss: 0.0052 - accuracy: 0.9983 - val_loss: 0.0468 - val_accuracy: 0.9924\n",
            "Epoch 71/100\n",
            "469/469 [==============================] - 4s 9ms/step - loss: 0.0065 - accuracy: 0.9984 - val_loss: 0.0397 - val_accuracy: 0.9929\n",
            "Epoch 72/100\n",
            "469/469 [==============================] - 4s 9ms/step - loss: 0.0055 - accuracy: 0.9983 - val_loss: 0.0368 - val_accuracy: 0.9935\n",
            "Epoch 73/100\n",
            "469/469 [==============================] - 4s 9ms/step - loss: 0.0058 - accuracy: 0.9981 - val_loss: 0.0405 - val_accuracy: 0.9921\n",
            "Epoch 74/100\n",
            "469/469 [==============================] - 4s 9ms/step - loss: 0.0058 - accuracy: 0.9979 - val_loss: 0.0406 - val_accuracy: 0.9938\n",
            "Epoch 75/100\n",
            "469/469 [==============================] - 4s 9ms/step - loss: 0.0050 - accuracy: 0.9983 - val_loss: 0.0382 - val_accuracy: 0.9941\n",
            "Epoch 76/100\n",
            "469/469 [==============================] - 4s 9ms/step - loss: 0.0045 - accuracy: 0.9984 - val_loss: 0.0486 - val_accuracy: 0.9929\n",
            "Epoch 77/100\n",
            "469/469 [==============================] - 4s 9ms/step - loss: 0.0053 - accuracy: 0.9982 - val_loss: 0.0449 - val_accuracy: 0.9938\n",
            "Epoch 78/100\n",
            "469/469 [==============================] - 4s 9ms/step - loss: 0.0040 - accuracy: 0.9987 - val_loss: 0.0452 - val_accuracy: 0.9928\n",
            "Epoch 79/100\n",
            "469/469 [==============================] - 4s 9ms/step - loss: 0.0039 - accuracy: 0.9987 - val_loss: 0.0442 - val_accuracy: 0.9931\n",
            "Epoch 80/100\n",
            "469/469 [==============================] - 4s 9ms/step - loss: 0.0064 - accuracy: 0.9981 - val_loss: 0.0416 - val_accuracy: 0.9939\n",
            "Epoch 81/100\n",
            "469/469 [==============================] - 4s 9ms/step - loss: 0.0044 - accuracy: 0.9986 - val_loss: 0.0442 - val_accuracy: 0.9937\n",
            "Epoch 82/100\n",
            "469/469 [==============================] - 4s 9ms/step - loss: 0.0048 - accuracy: 0.9985 - val_loss: 0.0435 - val_accuracy: 0.9933\n",
            "Epoch 83/100\n",
            "469/469 [==============================] - 4s 9ms/step - loss: 0.0055 - accuracy: 0.9984 - val_loss: 0.0446 - val_accuracy: 0.9927\n",
            "Epoch 84/100\n",
            "469/469 [==============================] - 4s 9ms/step - loss: 0.0053 - accuracy: 0.9985 - val_loss: 0.0429 - val_accuracy: 0.9928\n",
            "Epoch 85/100\n",
            "469/469 [==============================] - 4s 9ms/step - loss: 0.0050 - accuracy: 0.9985 - val_loss: 0.0378 - val_accuracy: 0.9937\n",
            "Epoch 86/100\n",
            "469/469 [==============================] - 4s 9ms/step - loss: 0.0052 - accuracy: 0.9985 - val_loss: 0.0388 - val_accuracy: 0.9930\n",
            "Epoch 87/100\n",
            "469/469 [==============================] - 4s 9ms/step - loss: 0.0036 - accuracy: 0.9988 - val_loss: 0.0535 - val_accuracy: 0.9923\n",
            "Epoch 88/100\n",
            "469/469 [==============================] - 4s 9ms/step - loss: 0.0049 - accuracy: 0.9984 - val_loss: 0.0464 - val_accuracy: 0.9932\n",
            "Epoch 89/100\n",
            "469/469 [==============================] - 4s 9ms/step - loss: 0.0051 - accuracy: 0.9982 - val_loss: 0.0403 - val_accuracy: 0.9928\n",
            "Epoch 90/100\n",
            "469/469 [==============================] - 4s 9ms/step - loss: 0.0052 - accuracy: 0.9982 - val_loss: 0.0432 - val_accuracy: 0.9929\n",
            "Epoch 91/100\n",
            "469/469 [==============================] - 4s 9ms/step - loss: 0.0045 - accuracy: 0.9985 - val_loss: 0.0483 - val_accuracy: 0.9932\n",
            "Epoch 92/100\n",
            "469/469 [==============================] - 4s 9ms/step - loss: 0.0042 - accuracy: 0.9987 - val_loss: 0.0444 - val_accuracy: 0.9936\n",
            "Epoch 93/100\n",
            "469/469 [==============================] - 4s 9ms/step - loss: 0.0041 - accuracy: 0.9987 - val_loss: 0.0449 - val_accuracy: 0.9928\n",
            "Epoch 94/100\n",
            "469/469 [==============================] - 4s 9ms/step - loss: 0.0042 - accuracy: 0.9987 - val_loss: 0.0432 - val_accuracy: 0.9940\n",
            "Epoch 95/100\n",
            "469/469 [==============================] - 4s 9ms/step - loss: 0.0047 - accuracy: 0.9985 - val_loss: 0.0424 - val_accuracy: 0.9937\n",
            "Epoch 96/100\n",
            "469/469 [==============================] - 4s 10ms/step - loss: 0.0059 - accuracy: 0.9982 - val_loss: 0.0463 - val_accuracy: 0.9930\n",
            "Epoch 97/100\n",
            "469/469 [==============================] - 4s 9ms/step - loss: 0.0046 - accuracy: 0.9986 - val_loss: 0.0406 - val_accuracy: 0.9930\n",
            "Epoch 98/100\n",
            "469/469 [==============================] - 4s 9ms/step - loss: 0.0049 - accuracy: 0.9984 - val_loss: 0.0482 - val_accuracy: 0.9927\n",
            "Epoch 99/100\n",
            "469/469 [==============================] - 4s 9ms/step - loss: 0.0047 - accuracy: 0.9984 - val_loss: 0.0431 - val_accuracy: 0.9926\n",
            "Epoch 100/100\n",
            "469/469 [==============================] - 4s 9ms/step - loss: 0.0051 - accuracy: 0.9985 - val_loss: 0.0405 - val_accuracy: 0.9931\n"
          ]
        }
      ]
    },
    {
      "cell_type": "code",
      "source": [
        "# 모델 평가\n",
        "test_loss, test_acc = model.evaluate(test_images, test_labels)\n",
        "\n",
        "print('Test accuracy: ', test_acc)"
      ],
      "metadata": {
        "colab": {
          "base_uri": "https://localhost:8080/"
        },
        "id": "mpIHctJSdZzd",
        "outputId": "10529495-7ee6-451d-d295-30262f53183e"
      },
      "execution_count": 18,
      "outputs": [
        {
          "output_type": "stream",
          "name": "stdout",
          "text": [
            "313/313 [==============================] - 1s 3ms/step - loss: 0.0405 - accuracy: 0.9931\n",
            "Test accuracy:  0.9930999875068665\n"
          ]
        }
      ]
    },
    {
      "cell_type": "code",
      "source": [
        "# loos Value, accuracy Graph\n",
        "import matplotlib.pyplot as plt\n",
        "\n",
        "fig, loss_ax = plt.subplots()\n",
        "fig, acc_ax = plt.subplots()\n",
        "\n",
        "loss_ax.plot(history.history['loss'], 'ro', label = 'train loss')           # train loss\n",
        "loss_ax.plot(history.history['val_loss'], 'r:', label = 'val loss')         # validation loss\n",
        "loss_ax.set_xlabel('epoch')                                                 # x축 label은 epoch\n",
        "loss_ax.set_ylabel('loss')                                                  # y축 label은 loss\n",
        "loss_ax.legend(loc = 'upper right')                                          # legend 위치는 왼쪽 위\n",
        "\n",
        "acc_ax.plot(history.history['accuracy'], 'bo', label = 'train accuracy')    # train accuracy\n",
        "acc_ax.plot(history.history['val_accuracy'], 'b:', label = 'val accuracy')  # validation accuracy\n",
        "acc_ax.set_ylabel('accuracy')                                               # y축 label은 accuracy\n",
        "acc_ax.legend(loc='lower right')                                             # legend 위치는 왼쪽 위\n",
        "\n",
        "plt.show()"
      ],
      "metadata": {
        "colab": {
          "base_uri": "https://localhost:8080/",
          "height": 527
        },
        "id": "5ww6f8YtfZ89",
        "outputId": "b588910b-ac30-4c55-b48e-cd6b56521829"
      },
      "execution_count": 19,
      "outputs": [
        {
          "output_type": "display_data",
          "data": {
            "text/plain": [
              "<Figure size 432x288 with 1 Axes>"
            ],
            "image/png": "[encoded data removed]"
          },
          "metadata": {
            "needs_background": "light"
          }
        },
        {
          "output_type": "display_data",
          "data": {
            "text/plain": [
              "<Figure size 432x288 with 1 Axes>"
            ],
            "image/png": "[encoded data removed]"
          },
          "metadata": {
            "needs_background": "light"
          }
        }
      ]
    },
    {
      "cell_type": "code",
      "source": [
        "# 모델을 통해 digit label 예측\n",
        "predictions = model.predict(test_images)"
      ],
      "metadata": {
        "colab": {
          "base_uri": "https://localhost:8080/"
        },
        "id": "b8AtA2NmhYDF",
        "outputId": "4c9bb1da-e3cd-40c5-c2b4-7bfac0fc2012"
      },
      "execution_count": 20,
      "outputs": [
        {
          "output_type": "stream",
          "name": "stdout",
          "text": [
            "313/313 [==============================] - 1s 2ms/step\n"
          ]
        }
      ]
    },
    {
      "cell_type": "code",
      "source": [
        "# 결과 Display\n",
        "show_sample(test_images, ['Predicted: %d' % np.argmax(result) for result in predictions])"
      ],
      "metadata": {
        "colab": {
          "base_uri": "https://localhost:8080/",
          "height": 589
        },
        "id": "NnF-VprVhtXT",
        "outputId": "a70f47b9-52c7-4a6f-da3a-495bf30f6938"
      },
      "execution_count": 21,
      "outputs": [
        {
          "output_type": "display_data",
          "data": {
            "text/plain": [
              "<Figure size 720x720 with 25 Axes>"
            ],
            "image/png": "[encoded data removed]"
          },
          "metadata": {}
        }
      ]
    },
    {
      "cell_type": "code",
      "source": [
        "# 특정한 숫자의 이미지와 예측한 label Display\n",
        "selected_digit = 0\n",
        "\n",
        "result = predictions[selected_digit]\n",
        "result_number = np.argmax(result)\n",
        "print('Number is %2i' % (result_number))\n",
        "\n",
        "show_digit_image(test_images[selected_digit])"
      ],
      "metadata": {
        "colab": {
          "base_uri": "https://localhost:8080/",
          "height": 283
        },
        "id": "lLih2ND5iTIq",
        "outputId": "6f9ce1d8-9797-4bd1-e6be-8064c14e3b6d"
      },
      "execution_count": 22,
      "outputs": [
        {
          "output_type": "stream",
          "name": "stdout",
          "text": [
            "Number is  7\n"
          ]
        },
        {
          "output_type": "display_data",
          "data": {
            "text/plain": [
              "<Figure size 432x288 with 1 Axes>"
            ],
            "image/png": "[encoded data removed]"
          },
          "metadata": {
            "needs_background": "light"
          }
        }
      ]
    },
    {
      "cell_type": "code",
      "source": [],
      "metadata": {
        "id": "VYvpvlqWymEe"
      },
      "execution_count": null,
      "outputs": []
    }
  ]
}