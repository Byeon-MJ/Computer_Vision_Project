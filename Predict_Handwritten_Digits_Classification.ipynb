{
  "nbformat": 4,
  "nbformat_minor": 0,
  "metadata": {
    "colab": {
      "private_outputs": true,
      "provenance": [],
      "authorship_tag": "ABX9TyN81Z6fMN9pLKVptTM4mlLz",
      "include_colab_link": true
    },
    "kernelspec": {
      "name": "python3",
      "display_name": "Python 3"
    },
    "language_info": {
      "name": "python"
    }
  },
  "cells": [
    {
      "cell_type": "markdown",
      "metadata": {
        "id": "view-in-github",
        "colab_type": "text"
      },
      "source": [
        "<a href=\"https://colab.research.google.com/github/Byeon-MJ/Computer_Vision_Project/blob/main/Predict_Handwritten_Digits_Classification.ipynb\" target=\"_parent\"><img src=\"https://colab.research.google.com/assets/colab-badge.svg\" alt=\"Open In Colab\"/></a>"
      ]
    },
    {
      "cell_type": "code",
      "execution_count": null,
      "metadata": {
        "id": "upkgO0ejNUpj"
      },
      "outputs": [],
      "source": [
        "# drive 마운트\n",
        "from google.colab import drive\n",
        "drive.mount('/content/gdrive')"
      ]
    },
    {
      "cell_type": "code",
      "source": [
        "# 모듈 임포트\n",
        "import cv2\n",
        "import numpy as np\n",
        "import matplotlib.pyplot as plt"
      ],
      "metadata": {
        "id": "qrs0Js6pNgRD"
      },
      "execution_count": null,
      "outputs": []
    },
    {
      "cell_type": "code",
      "source": [
        "# 이미지 파일 불러오기, 정보 확인\n",
        "frame = '/content/gdrive/MyDrive/CV/Digits Classify/435.jpg'\n",
        "\n",
        "img = cv2.imread(frame)\n",
        "plt.imshow(img)\n",
        "print('width: {} pixels'.format(img.shape[1]))\n",
        "print('height: {} pixels'.format(img.shape[0]))\n",
        "print('channels: {}'.format(img.shape[2]))"
      ],
      "metadata": {
        "id": "fgb4m0x3N4ME"
      },
      "execution_count": null,
      "outputs": []
    },
    {
      "cell_type": "code",
      "source": [
        "# HSV Filter 적용하고 channel 분리\n",
        "# 이미지를 BRG to HSV(HSV filter 적용)\n",
        "hsv = cv2.cvtColor(img, cv2.COLOR_BGR2HSV)\n",
        "hue, saturation, value = cv2.split(hsv)     # 색상(hue), 채도(saturation), 명도(value)\n",
        "plt.imshow(value)                           # 명도 이미지를 보여준다"
      ],
      "metadata": {
        "id": "-QVQgYsoOPNr"
      },
      "execution_count": null,
      "outputs": []
    },
    {
      "cell_type": "code",
      "source": [
        "# morphological operation 사용 위해 kernel 정의\n",
        "kernel = cv2.getStructuringElement(cv2.MORPH_RECT, (3, 3))"
      ],
      "metadata": {
        "id": "Q42F1i16RKoU"
      },
      "execution_count": null,
      "outputs": []
    },
    {
      "cell_type": "code",
      "source": [
        "# topHat operation 적용\n",
        "topHat = cv2.morphologyEx(value, cv2.MORPH_TOPHAT, kernel)\n",
        "plt.imshow(topHat)"
      ],
      "metadata": {
        "id": "5Ej4MqjRRel4"
      },
      "execution_count": null,
      "outputs": []
    },
    {
      "cell_type": "code",
      "source": [
        "# blackHat operation 적용\n",
        "blackHat = cv2.morphologyEx(value, cv2.MORPH_BLACKHAT, kernel)\n",
        "plt.imshow(blackHat)"
      ],
      "metadata": {
        "id": "eN7oIk77R5mg"
      },
      "execution_count": null,
      "outputs": []
    },
    {
      "cell_type": "code",
      "source": [
        "# add and subtract 수행\n",
        "add = cv2.add(value, topHat)\n",
        "subtract = cv2.subtract(add, blackHat)\n",
        "plt.imshow(subtract)"
      ],
      "metadata": {
        "id": "gxVnu7LcSRhg"
      },
      "execution_count": null,
      "outputs": []
    },
    {
      "cell_type": "code",
      "source": [
        "# gaussian blur 적용\n",
        "blur = cv2.GaussianBlur(subtract, (5, 5), 0)\n",
        "plt.imshow(blur)"
      ],
      "metadata": {
        "id": "ayjIGNj_ULjJ"
      },
      "execution_count": null,
      "outputs": []
    },
    {
      "cell_type": "code",
      "source": [
        "# blur 이미지에 threshold 적용\n",
        "thresh = cv2.adaptiveThreshold(blur, 255, cv2.ADAPTIVE_THRESH_GAUSSIAN_C, \n",
        "                               cv2.THRESH_BINARY_INV, 19, 9)\n",
        "\n",
        "plt.imshow(thresh)"
      ],
      "metadata": {
        "id": "wq5ESWtVUyof"
      },
      "execution_count": null,
      "outputs": []
    },
    {
      "cell_type": "code",
      "source": [
        "# cv2.findContours 함수가 OpenCV 버전이 업그레이드 됨에 따라 파라미터 개수에 변동이 생겼음\n",
        "# OpenCV 버전4 이상은 파라미터 개수가 2개, OpenCV 버전4 미만은 파라미터 개수가 3개\n",
        "\n",
        "print(cv2.__version__)\n",
        "\n",
        "cv2MajorVersion = cv2.__version__.split('.')[0]\n",
        "print('openCV version : ', cv2MajorVersion)\n",
        "\n",
        "# thresh 이미지에서 countour들을 찾아온다.\n",
        "if int(cv2MajorVersion) >= 4:\n",
        "    contours, hierarchy = cv2.findContours(thresh, cv2.RETR_LIST,\n",
        "                                             cv2.CHAIN_APPROX_SIMPLE)\n",
        "else:\n",
        "    imageContours, contours, hierarcy = cv2.findContours(thresh, cv2.RETR_LIST,\n",
        "                                                         cv2.CHAIN_APPROX_SIMPLE)"
      ],
      "metadata": {
        "id": "Mts-hdDkVJlo"
      },
      "execution_count": null,
      "outputs": []
    },
    {
      "cell_type": "code",
      "source": [
        "img_digits = []     # digit 이미지가 저장되는 배열 정의\n",
        "margin = 10         # digit 이미지 저장 여유 마진\n",
        "\n",
        "for contour in contours:\n",
        "    x, y, w, h = cv2.boundingRect(contour)  # contour 주변을 사각형으로 찾아옴\n",
        "\n",
        "    # 찾아온 이미지가 너무 작다면 무시\n",
        "    if w * h < 100: continue\n",
        "\n",
        "    # Y and X [y-margin : y + h + margin, x-margin:x+w+margin]\n",
        "    # contour boxing 위치 좌표를 계산하여 thresh 이미지로부터 digit image를 구해 img_digits 배열에 넣어준다.\n",
        "    img_digits.append(thresh[y-margin:y+h+margin, x-margin:x+w+margin])\n",
        "\n",
        "    # 원본 이미지에 contour boxing 영역을 사각형으로 표시\n",
        "    cv2.rectangle(img, (x, y), (x + w, y + h), (0, 255, 0), 2)\n",
        "    print(x, x+w, y, y+h)\n",
        "\n",
        "plt.imshow(img)"
      ],
      "metadata": {
        "id": "-WG16p2YVniv"
      },
      "execution_count": null,
      "outputs": []
    },
    {
      "cell_type": "code",
      "source": [
        "# 저장된 digit image 확인\n",
        "for i in range(len(img_digits)):\n",
        "    plt.subplot(1, len(img_digits), i+1)\n",
        "    plt.imshow(img_digits[i], cmap='Greys', interpolation='nearest')\n",
        "    print(img_digits[i].shape)\n",
        "\n",
        "plt.tight_layout()\n",
        "plt.show()"
      ],
      "metadata": {
        "id": "Tg_dRujLVpNO"
      },
      "execution_count": null,
      "outputs": []
    },
    {
      "cell_type": "code",
      "source": [
        "# input 위해 image size 재조정(28 x 28)\n",
        "SZ = 28\n",
        "\n",
        "for i in range(len(img_digits)):\n",
        "    plt.subplot(1, len(img_digits), i+1)\n",
        "    plt.imshow(cv2.resize(img_digits[i], (SZ, SZ)), cmap='Greys', interpolation='nearest')\n",
        "\n",
        "plt.tight_layout()\n",
        "plt.show()"
      ],
      "metadata": {
        "id": "d7LyC6y1X2bH"
      },
      "execution_count": null,
      "outputs": []
    },
    {
      "cell_type": "code",
      "source": [
        "import tensorflow as tf\n",
        "from tensorflow import keras\n",
        "from keras import models\n",
        "\n",
        "# 모델 불러오기\n",
        "model = models.load_model('/content/gdrive/MyDrive/CV/Digits Classify/digits_model.h5')\n",
        "model.summary()"
      ],
      "metadata": {
        "id": "XgYJQ4tWYrmO"
      },
      "execution_count": null,
      "outputs": []
    },
    {
      "cell_type": "code",
      "source": [
        "# 분류 예측\n",
        "SZ = 28\n",
        "\n",
        "for i in range(len(img_digits)):\n",
        "    plt.subplot(1, len(img_digits), i+1)\n",
        "    \n",
        "    # img_digits 배열의 크기가 서로 다른 이미지들을 모두 28X28 로 재조정\n",
        "    num = cv2.resize(img_digits[i], (SZ, SZ))\n",
        "\n",
        "    # 픽셀 값을 0~1 범위로 변환\n",
        "    num = num.astype('float32') / 255.\n",
        "\n",
        "    # 이미지 Display\n",
        "    plt.imshow(num, cmap='Greys', interpolation='nearest')\n",
        "\n",
        "    # 이미지를 우리가 만든 모델을 통해 분류 예측\n",
        "    result = model.predict(np.array([num]))\n",
        "    result_number = np.argmax(result)\n",
        "    plt.title(result_number)\n",
        "    performance = [val for val in result[0]]\n",
        "    print(performance)\n",
        "\n",
        "plt.tight_layout()\n",
        "plt.show()"
      ],
      "metadata": {
        "id": "QaFvsKykZo_d"
      },
      "execution_count": null,
      "outputs": []
    },
    {
      "cell_type": "code",
      "source": [],
      "metadata": {
        "id": "jE0aut2Xas0F"
      },
      "execution_count": null,
      "outputs": []
    }
  ]
}