{
  "nbformat": 4,
  "nbformat_minor": 0,
  "metadata": {
    "colab": {
      "private_outputs": true,
      "provenance": [],
      "authorship_tag": "ABX9TyMzoYwhedWRCDS106FV2jLF",
      "include_colab_link": true
    },
    "kernelspec": {
      "name": "python3",
      "display_name": "Python 3"
    },
    "language_info": {
      "name": "python"
    },
    "gpuClass": "standard",
    "accelerator": "GPU"
  },
  "cells": [
    {
      "cell_type": "markdown",
      "metadata": {
        "id": "view-in-github",
        "colab_type": "text"
      },
      "source": [
        "<a href=\"https://colab.research.google.com/github/Byeon-MJ/Computer_Vision_Project/blob/main/Video_Face_Recognition.ipynb\" target=\"_parent\"><img src=\"https://colab.research.google.com/assets/colab-badge.svg\" alt=\"Open In Colab\"/></a>"
      ]
    },
    {
      "cell_type": "code",
      "execution_count": null,
      "metadata": {
        "id": "lQ-22iPSnJEz"
      },
      "outputs": [],
      "source": [
        "from google.colab import drive\n",
        "drive.mount('/content/gdrive')"
      ]
    },
    {
      "cell_type": "code",
      "source": [
        "# #cmake install\n",
        "# !pip install cmake"
      ],
      "metadata": {
        "id": "I_BbfbgonTgg"
      },
      "execution_count": null,
      "outputs": []
    },
    {
      "cell_type": "code",
      "source": [
        "# # dlib install\n",
        "# !pip install dlib"
      ],
      "metadata": {
        "id": "ZUjE7AmtnkqK"
      },
      "execution_count": null,
      "outputs": []
    },
    {
      "cell_type": "code",
      "source": [
        "# face_recognition install\n",
        "!pip install face_recognition"
      ],
      "metadata": {
        "id": "5GiXNUyrnuvn"
      },
      "execution_count": null,
      "outputs": []
    },
    {
      "cell_type": "markdown",
      "source": [
        "# Face Encoding"
      ],
      "metadata": {
        "id": "H5sbXJ7wMsEE"
      }
    },
    {
      "cell_type": "code",
      "source": [
        "# 학습시킬 이미지 dataset 경로 지정\n",
        "dataset_paths = ['/content/gdrive/MyDrive/CV/Face Recognition/dataset/Chun/']\n",
        "\n",
        "names = ['Chun']       # name 지정\n",
        "number_images = 10      # 학습시킬 이미지 수\n",
        "image_type = '.jpg'     # 이미지 확장자 지정\n",
        "encoding_file = 'encodings.pickle'  # 128개의 vector 값 저장할 파일명\n",
        "model_method = 'cnn'    # cnn or hog. CNN 은 정확도가 높지만 느리고, hog는 빠르지만 정확도가 떨어짐"
      ],
      "metadata": {
        "id": "xtbemA9xyIRn"
      },
      "execution_count": null,
      "outputs": []
    },
    {
      "cell_type": "code",
      "source": [
        "knownEncodings = []     # 특성값 저장할 배열 지정\n",
        "knownNames = []         # name을 저장할 배열 지정\n",
        "\n",
        "for (i, dataset_path) in enumerate(dataset_paths):\n",
        "    # person name을 names에서 추출\n",
        "    name = names[i]\n",
        "\n",
        "    for idx in range(number_images):\n",
        "        file_name = dataset_path + str(idx + 1) + image_type\n",
        "\n",
        "        image = cv2.imread(file_name)\n",
        "\n",
        "        # 이미지를 face_recognition 에서 처리하기 위해 RGB 형식으로 변경\n",
        "        rgb = cv2.cvtColor(image, cv2.COLOR_BGR2RGB)\n",
        "\n",
        "        # 얼굴을 detection하고 boxing\n",
        "        boxes = face_recognition.face_locations(rgb, model = model_method)\n",
        "\n",
        "        # 얼굴 영역(boxing Area)만 encoding 계산\n",
        "        encodings = face_recognition.face_encodings(rgb, boxes)\n",
        "\n",
        "        # loop over the encodings\n",
        "        for encoding in encodings:\n",
        "            print(file_name, name, encoding)\n",
        "            knownEncodings.append(encoding)\n",
        "            knownNames.append(name)"
      ],
      "metadata": {
        "id": "JzCConRQ0fZz"
      },
      "execution_count": null,
      "outputs": []
    },
    {
      "cell_type": "code",
      "source": [
        "# encoding과 name을 Dictionary 타입으로 저장\n",
        "data = {\"encodings\": knownEncodings, \"names\": knownNames}\n",
        "f = open(encoding_file, 'wb')\n",
        "f.write(pickle.dumps(data))\n",
        "f.close()"
      ],
      "metadata": {
        "id": "e43EtqZA16b5"
      },
      "execution_count": null,
      "outputs": []
    },
    {
      "cell_type": "markdown",
      "source": [
        "# Face Recognition"
      ],
      "metadata": {
        "id": "4ysJk1lxx-Yh"
      }
    },
    {
      "cell_type": "code",
      "source": [
        "import cv2\n",
        "from google.colab.patches import cv2_imshow\n",
        "import face_recognition\n",
        "import pickle\n",
        "import time"
      ],
      "metadata": {
        "id": "dbuuyWpxnyHP"
      },
      "execution_count": null,
      "outputs": []
    },
    {
      "cell_type": "code",
      "source": [
        "# 원본 동영상\n",
        "file_name = '/content/gdrive/MyDrive/CV/Face Recognition/chun_video2.mp4'\n",
        "\n",
        "# 저장된 encoding 파일\n",
        "encoding_file = '/content/encodings.pickle'\n",
        "\n",
        "# 이름 모를 경우 Unknwon 지정\n",
        "unknown_name = 'Unknown'\n",
        "\n",
        "# model 지정, cnn or hog\n",
        "model_method = 'cnn'\n",
        "\n",
        "# Detection 된 output 동영상\n",
        "output_name = 'output_video2.mp4'"
      ],
      "metadata": {
        "id": "eCZF574boEPP"
      },
      "execution_count": null,
      "outputs": []
    },
    {
      "cell_type": "code",
      "source": [
        "def detectAndDisplay(image):\n",
        "    start_time = time.time()\n",
        "\n",
        "    # 이미지 RGB 형식으로 변경\n",
        "    rgb = cv2.cvtColor(image, cv2.COLOR_BGR2RGB)\n",
        "\n",
        "    # 얼굴 detection, boxing\n",
        "    boxes = face_recognition.face_locations(rgb, model = model_method)\n",
        "\n",
        "    # 얼굴영역 특성값 계산\n",
        "    encodings = face_recognition.face_encodings(rgb, boxes)\n",
        "\n",
        "    names = []\n",
        "\n",
        "    for encoding in encodings:\n",
        "        # boxing 된 특성이 pickle 파일의 encodings(특성값)과 매칭되는 것 찾기\n",
        "        matches = face_recognition.compare_faces(data['encodings'], encoding)\n",
        "        print(matches)\n",
        "        name = unknown_name     # 'Unknown' 으로 초기화\n",
        "\n",
        "        # check to see if we have found a match\n",
        "        if True in matches:\n",
        "            # 매칭된 pickle 파일의 True 인덱스 번호를 찾아온다\n",
        "            matchedIdxs = [i for (i, b) in enumerate(matches) if b]\n",
        "            counts = {}\n",
        "\n",
        "            for i in matchedIdxs:\n",
        "                name = data['names'][i]\n",
        "                counts[name] = counts.get(name, 0) + 1\n",
        "\n",
        "            name = max(counts, key = counts.get)\n",
        "\n",
        "        # names 배열에 이름 추가\n",
        "        names.append(name)\n",
        "\n",
        "    # detection 된 얼굴의 boxing 위치 좌표와 이름 매칭\n",
        "    for ((top, right, bottom, left), name) in zip(boxes, names):\n",
        "        color = (0, 255, 0)\n",
        "        line = 2\n",
        "        if(name == unknown_name):\n",
        "            color = (0, 0, 255)\n",
        "            line = 1\n",
        "            name = ''\n",
        "\n",
        "        cv2.rectangle(image, (left, top), (right, bottom), color, line)\n",
        "        y = top - 15 if top -15 > 15 else top + 15\n",
        "        cv2.putText(image, name, (left, y), cv2.FONT_HERSHEY_SIMPLEX, 0.7, color, line)\n",
        "\n",
        "    end_time = time.time()\n",
        "    process_time = end_time - start_time\n",
        "    print('= = = A frame took {:.3f} seconds'.format(process_time))\n",
        "\n",
        "    # video를 disk에 output 하기 위해 writer 초기화\n",
        "    global writer\n",
        "    if writer is None and output_name is not None:\n",
        "        fourcc = cv2.VideoWriter_fourcc(*'DIVX')\n",
        "        writer = cv2.VideoWriter(output_name, fourcc, 30, (image.shape[1], image.shape[0]), True)\n",
        "\n",
        "    # disk 에 frame을 write 한다.\n",
        "    if writer is not None:\n",
        "        writer.write(image)"
      ],
      "metadata": {
        "id": "rxLOTdtMuf2e"
      },
      "execution_count": null,
      "outputs": []
    },
    {
      "cell_type": "code",
      "source": [
        "# 저장된 encoding 파일 불러오기\n",
        "data = pickle.loads(open(encoding_file, 'rb').read())\n",
        "cap = cv2.VideoCapture(file_name)   # 원본 동영상에서 video stream 읽어오기\n",
        "writer = None\n",
        "\n",
        "if not cap.isOpened:\n",
        "    print('- -(!)Error opening video capture')\n",
        "    exit(0)\n",
        "\n",
        "while True:\n",
        "    ret, frame = cap.read()\n",
        "    if frame is None:\n",
        "        # close the video file pointers\n",
        "        cap.release()\n",
        "        # close the writer point\n",
        "        writer.release()\n",
        "\n",
        "        print('- -(!) No captured frame - - Break!')\n",
        "        break\n",
        "    detectAndDisplay(frame)"
      ],
      "metadata": {
        "id": "SnSZ0JYkLsXT"
      },
      "execution_count": null,
      "outputs": []
    },
    {
      "cell_type": "code",
      "source": [],
      "metadata": {
        "id": "3MXFWaKFM6xj"
      },
      "execution_count": null,
      "outputs": []
    }
  ]
}