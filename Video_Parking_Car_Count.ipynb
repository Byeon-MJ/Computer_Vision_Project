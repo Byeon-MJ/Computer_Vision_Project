{
  "nbformat": 4,
  "nbformat_minor": 0,
  "metadata": {
    "colab": {
      "private_outputs": true,
      "provenance": [],
      "authorship_tag": "ABX9TyOJuhUA0VWfPAhYatFzhJF4",
      "include_colab_link": true
    },
    "kernelspec": {
      "name": "python3",
      "display_name": "Python 3"
    },
    "language_info": {
      "name": "python"
    }
  },
  "cells": [
    {
      "cell_type": "markdown",
      "metadata": {
        "id": "view-in-github",
        "colab_type": "text"
      },
      "source": [
        "<a href=\"https://colab.research.google.com/github/Byeon-MJ/DL_Computer_Vision/blob/main/Video_Parking_Car_Count.ipynb\" target=\"_parent\"><img src=\"https://colab.research.google.com/assets/colab-badge.svg\" alt=\"Open In Colab\"/></a>"
      ]
    },
    {
      "cell_type": "code",
      "execution_count": null,
      "metadata": {
        "id": "zfYupXPJ6PCz"
      },
      "outputs": [],
      "source": [
        "from google.colab import drive\n",
        "drive.mount('/content/gdrive')"
      ]
    },
    {
      "cell_type": "code",
      "source": [
        "import cv2\n",
        "import numpy as np\n",
        "import time\n",
        "import io\n",
        "import base64\n",
        "from IPython.display import HTML"
      ],
      "metadata": {
        "id": "GSu8FY686aa2"
      },
      "execution_count": null,
      "outputs": []
    },
    {
      "cell_type": "code",
      "source": [
        "# 원본 동영상 Display\n",
        "video = io.open('/content/gdrive/MyDrive/CV/Parking Car Count/video/parking.mp4', 'r+b').read()\n",
        "encoded = base64.b64encode(video)\n",
        "HTML(data='''<video width=\"30%\" controls>\n",
        "    <source src=\"data:video/mp4;base64, {0}\" type=\"video/mp4\"/>\n",
        "    </video>'''.format(encoded.decode('ascii')))"
      ],
      "metadata": {
        "id": "opuYWJXh6q90"
      },
      "execution_count": null,
      "outputs": []
    },
    {
      "cell_type": "code",
      "source": [
        "# Detection 할 원본 동영상\n",
        "file_name = '/content/gdrive/MyDrive/CV/Parking Car Count/video/parking.mp4'\n",
        "min_confidence = 0.5\n",
        "output_name = 'parking_car_count_video.mp4' # Detection 된 output 동영상\n",
        "elapsed_time = 0                            # 총 경과시간 초기화"
      ],
      "metadata": {
        "id": "n4PuBPTp7-aN"
      },
      "execution_count": null,
      "outputs": []
    },
    {
      "cell_type": "code",
      "source": [
        "# Load Yolo\n",
        "net = cv2.dnn.readNet('/content/gdrive/MyDrive/CV/Object Detection_YOLO/yolov3.weights',\n",
        "                      '/content/gdrive/MyDrive/CV/Object Detection_YOLO/yolov3.cfg')\n",
        "\n",
        "classes = []\n",
        "with open('/content/gdrive/MyDrive/CV/Object Detection_YOLO/coco.names', 'r') as f:\n",
        "    classes = [line.strip() for line in f.readlines()]\n",
        "\n",
        "layer_names = net.getLayerNames()\n",
        "output_layers = [layer_names[i - 1] for i in net.getUnconnectedOutLayers()]"
      ],
      "metadata": {
        "id": "OM1tQ15s96ZA"
      },
      "execution_count": null,
      "outputs": []
    },
    {
      "cell_type": "code",
      "source": [
        "def detectAndDisplay(frame):\n",
        "    start_time = time.time()\n",
        "    img = cv2.resize(frame, None, fx=0.9, fy=0.9)\n",
        "    height, width, channels = img.shape\n",
        "\n",
        "    blob = cv2.dnn.blobFromImage(img, 0.00392, (416, 416), (0, 0, 0), True, crop=False)\n",
        "\n",
        "    net.setInput(blob)\n",
        "    outs = net.forward(output_layers)\n",
        "\n",
        "    # Showing informations on the screen\n",
        "    confidences = []    # detection 한 Class의 신뢰도 지정하는 배열 정의\n",
        "    boxes = []          # detection 한 boxing 정보를 지정하는 배열 정의\n",
        "\n",
        "    for out in outs:\n",
        "        for detection in out:\n",
        "            scores = detection[5:]\n",
        "            class_id = np.argmax(scores)    # detection 한 Class id\n",
        "            confidence = scores[class_id]   # detection 한 Class의 신뢰도\n",
        "\n",
        "            # Filter only 'car'\n",
        "            if class_id == 2 and confidence > min_confidence:\n",
        "                # Object detected\n",
        "                center_x = int(detection[0] * width)\n",
        "                center_y = int(detection[1] * height)\n",
        "                w = int(detection[2] * width)\n",
        "                h = int(detection[3] * height)\n",
        "\n",
        "                # Rectangle coordinates\n",
        "                x = int(center_x - w / 2)\n",
        "                y = int(center_y - h / 2)\n",
        "\n",
        "                boxes.append([x, y, w, h])              # boxing 정보를 boxes 배열에 저장\n",
        "                confidences.append(float(confidence))   # 신뢰도를 confidences 배열에 저장\n",
        "\n",
        "    # apply non-max suppression\n",
        "    # 박스안에 노이즈를 하나로 만들기\n",
        "    indexes = cv2.dnn.NMSBoxes(boxes, confidences, min_confidence, 0.4)\n",
        "\n",
        "    print(f'Min Confidence : {min_confidence}')\n",
        "    for i in range(len(boxes)):\n",
        "        if i in indexes:    # 노이즈가 제거된 박스만 표시\n",
        "            x, y, w, h = boxes[i]\n",
        "            label = f'{confidences[i]:,.2%}'    # 신뢰도(확률)\n",
        "            print(i, label)\n",
        "            cv2.rectangle(img, (x, y), (x + w, y + h), (0, 255, 0), 1)\n",
        "            cv2.rectangle(img, (x, y - 20), (x + w, y), (0, 255, 0), -1)\n",
        "            cv2.putText(img, label, (x + 10, y - 5), cv2.FONT_HERSHEY_PLAIN, 1, (255, 0, 0), 1)\n",
        "\n",
        "    text = f'number of parked cars : {len(indexes)}'\n",
        "    cv2.putText(img, text, (40, 40), cv2.FONT_HERSHEY_PLAIN, 2, (0, 0, 0), 10)\n",
        "    cv2.putText(img, text, (40, 40), cv2.FONT_HERSHEY_PLAIN, 2, (255, 255, 255), 2)\n",
        "\n",
        "    process_time = time.time() - start_time\n",
        "    global elapsed_time\n",
        "    elapsed_time += process_time\n",
        "    print(f'= = = process time {process_time:.3f} seconds')\n",
        "\n",
        "    # video 쓰기\n",
        "    global writer\n",
        "    if writer is None and output_name is not None:\n",
        "        fourcc = cv2.VideoWriter_fourcc(*'DIVX')\n",
        "        writer = cv2.VideoWriter(output_name, fourcc, 30,\n",
        "                                 (img.shape[1], img.shape[0]), True)\n",
        "        \n",
        "    # Disk에 Frame write\n",
        "    if writer is not None:\n",
        "        writer.write(img)"
      ],
      "metadata": {
        "id": "usYa8jyq9hTV"
      },
      "execution_count": null,
      "outputs": []
    },
    {
      "cell_type": "code",
      "source": [
        "# 원본 동영상에서 video stream 읽기\n",
        "cap = cv2.VideoCapture(file_name)\n",
        "writer = None\n",
        "\n",
        "if not cap.isOpened:\n",
        "    print('--(!)Error opening video capture')\n",
        "    exit(0)\n",
        "\n",
        "while True:\n",
        "    ret, frame = cap.read()\n",
        "    if frame is None:\n",
        "        # close the video file pointers\n",
        "        cap.release()\n",
        "        # close the writer point\n",
        "        writer.release()\n",
        "        print('--(!) No captured frame -- Break!')\n",
        "        print(f'elapsed time {elapsed_time:.3f} seconds')\n",
        "        break\n",
        "    detectAndDisplay(frame)"
      ],
      "metadata": {
        "id": "KIdT-8Sz-gdU"
      },
      "execution_count": null,
      "outputs": []
    },
    {
      "cell_type": "code",
      "source": [],
      "metadata": {
        "id": "FSCNUM47ApYz"
      },
      "execution_count": null,
      "outputs": []
    }
  ]
}